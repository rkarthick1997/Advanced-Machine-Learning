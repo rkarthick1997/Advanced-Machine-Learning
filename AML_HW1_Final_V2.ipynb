{
  "nbformat": 4,
  "nbformat_minor": 0,
  "metadata": {
    "colab": {
      "name": "AML HW1 Final - V2.ipynb",
      "provenance": [],
      "collapsed_sections": []
    },
    "kernelspec": {
      "display_name": "Python 3",
      "language": "python",
      "name": "python3"
    },
    "language_info": {
      "codemirror_mode": {
        "name": "ipython",
        "version": 3
      },
      "file_extension": ".py",
      "mimetype": "text/x-python",
      "name": "python",
      "nbconvert_exporter": "python",
      "pygments_lexer": "ipython3",
      "version": "3.8.5"
    }
  },
  "cells": [
    {
      "cell_type": "markdown",
      "metadata": {
        "id": "evHVxwk2JA-3"
      },
      "source": [
        "# <p style=\"text-align: center;\">MIS 382N: Advanced Machine Learning</p>\n",
        "# <p style=\"text-align: center;\">Homework 1</p>\n",
        "## <p style=\"text-align: center;\">Total points: 55</p>\n",
        "## <p style=\"text-align: center;\">Due: Wednesday, **Sep 10** submitted via Canvas by 11:59 pm</p>\n",
        "\n",
        "Your homework should be written in a **Jupyter notebook**. Please make sure your code runs and the graphics (and anything else) are displayed in your notebook before submitting (%matplotlib inline). **This can be an individual assignment or group of 2. If you choose to do it as a group, please specify who you are working with (name and EID), then only one student should submit the homework.**\n",
        "\n",
        "**Note: Notebooks MUST have the images embedded in them. There will be no regrades if attached images do not render in the notebook. Please re download from canvas after submission and make sure all attached images render without errors. (Hint: Image module from IPython.display)**"
      ]
    },
    {
      "cell_type": "markdown",
      "metadata": {
        "id": "0eTfjKUv7_Yo"
      },
      "source": [
        "Karthick Ramasubramanian - KR33733\n"
      ]
    },
    {
      "cell_type": "markdown",
      "metadata": {
        "id": "MemagQUhQp9F"
      },
      "source": [
        "Yashaswini Kalva - YK8348"
      ]
    },
    {
      "cell_type": "markdown",
      "metadata": {
        "id": "TWWU_gOSLEEv"
      },
      "source": [
        "# Question 1: MLOps (10 pts)\n",
        "Read this [article](https://towardsdatascience.com/what-is-mlops-everything-you-must-know-to-get-started-523f2d0b8bd8) \"What is MLOps — Everything You Must Know to Get Started\", which gives a quick walkthrough of the machine learning development lifecycle and explains how MLOps come into play, or watch this [video](https://www.youtube.com/watch?v=06-AZXmwHjo) which you may find interesting.\n",
        "\n",
        "1. (**4 pts**) Use your own words to describe what MLOps is, and what challenges MLOps address. Limit your answer to one paragraph.\n",
        "\n",
        "2. (**6 pts**) Describe what the main phases in MLOps are. Your answer should be 2-3 paragraphs.\n",
        "\n",
        "\n",
        "## Answer:"
      ]
    },
    {
      "cell_type": "markdown",
      "metadata": {
        "id": "ton10mhGQw-Q"
      },
      "source": [
        "(1) \n",
        "  (1) MLOps or Machine Learning Operations is an engineering discipline that aims to unify ML systems development and deployment in standardise and streamline the delivery of high performance models in production environment.  MLOps addresses key challenges faced in production like building of scalable ML models, continuous monitering of performance, implementing changing or evolving business objectives etc.  It also addresses communication gaps between business and technical teams.  Risk assessment of models drifting away from their original objective is also done."
      ]
    },
    {
      "cell_type": "markdown",
      "metadata": {
        "id": "__x3MQcYS-gx"
      },
      "source": [
        "(1)\n",
        "  (2) MLOps can be categories in 7 major phases.\n",
        "\n",
        "1.   Understand the business objectives and Frame the ML model in terms of KPI's or budgets.\n",
        "\n",
        "2.   Find the dataset, its credibility and check regulatory compliances associated with the data.  After that understand the type of data (static, NRT, RT), which will in turn allow us to build the right data pipeline and servers that need to used.\n",
        "\n",
        "3.   The dataset needs to be prepared that includes cleaning, transformations.  A complete pipeline is build to feed data into the model.\n",
        "\n",
        "4.   Here the primary role of a Data Scientist comes into play.  The best solution is narrowed down wrt measures like accuracy, precision, simplicity of model.\n",
        "\n",
        "5.   Building and Automate ML pipelines.  Both training and testing pipelines need to be build wrt to triggers, parameters and computational requirements.  The correct cloud architecture need to be chosen.  The pipeline should allow us to track and audit each run and perform validation.\n",
        "\n",
        "6.   The ML model is deployed in Production.  This is done is two ways: Static (Eg. Model is used for batch scoring of request) or Dynamic (Model responds to user request through API endpoint).\n",
        "While deploying several factors like resource usage, regulatory complicance, logging etc are taken into account.\n",
        "\n",
        "7.   Post implemention of Models in Production, the system need to be monitored in terms of performance, checked for introduction of biases and even be tweaked with changes in business objectives. \n",
        "\n"
      ]
    },
    {
      "cell_type": "markdown",
      "metadata": {
        "id": "wusA9L1LmUMH"
      },
      "source": [
        "# Question 2: Applications of Machine Learning (5 pts)\n",
        "Read this [article](https://builtin.com/data-science/data-science-applications-examples) \"17 Data Science Applications & Examples\" and pick one of the data science systems used by various organizations according to this blog. \n",
        "\n",
        "For this system you have chosen, answer the following questions. Please limit your answer to one paragraph:\n",
        "\n",
        "1. What kind of machine learning problem is involved (e.g. classification, regression, clustering, outlier detection,...) in this system?\n",
        "2. Speculate on what kind of data may be needed and how the results can be useful to the organization.\n",
        "3. What do you think are the ethical implications of using machine learning in a domain like this?\n",
        "\n",
        "## Answer:"
      ]
    },
    {
      "cell_type": "markdown",
      "metadata": {
        "id": "Dg1Z-0f-Qp9G"
      },
      "source": [
        "\n",
        "\n",
        "\n",
        "2. For this case we have chosen, Sports: Liverpool F.C Moneyballing Soccer.\n",
        "\n",
        "(1) This problem may be classification or a regression where we predict a probability/scoring of success.  Since, recruiting players with a lot of factors like nationality, age, position etc... I belive studying the probability and directing efforts to each player will be more helpful.  Also, clustering before running the regression may be done as different player based on their profile (attacker/midfielder/Goalkeeper) will have completely different attributes.\n",
        "\n",
        "(2) Data needed will include physical attributes (height, weight, build, speed, agility), in game metrics (pass completion, goal xG, shot creation, tackles, work-rate), injury history, nationality, team based metric (win/loss, league played, team league position) etc...  This data will help teams identify players of potential early on rather wait for players to mature and wait for them prove themselves in big teams or win trophies.  In an inflated transfer market we in right now, using these techniques will help smaller teams compete with the cash rich teams.\n",
        "\n",
        "(3) Since most of the data for professional footballers is publically available there should not be privacy related ethical dilemmas.  Although, we should be aware of cases where model may fails to detect quality players like Kross or Busquets who excel because of high Footballing intelligence but don't have good statistical numbers.\n",
        "\n"
      ]
    },
    {
      "cell_type": "markdown",
      "metadata": {
        "id": "2w8za9lLmVO7"
      },
      "source": [
        "# Question 3: Simpson's Paradox (10 pts)\n",
        "A data scientist should be careful about drawing unwarranted conclusions about any data that is presented. One of the 'gotchas' that can happen even in apparently very simple tabular summaries, is called Simpson's paradox.\n",
        "\n",
        "Read this [article](https://www.covid-datascience.com/post/israeli-data-how-can-efficacy-vs-severe-disease-be-strong-when-60-of-hospitalized-are-vaccinated), which explains why the computed efficacy of the Pfizer vaccine is misleadingly low (67.5%) when you lump all people together, but once you stratify people by age (which is the right thing to do), you get much higher efficacy numbers.\n",
        "\n",
        "1.(**5 pts**) Explain in your own words what Simpson's paradox is, and how this 'paradox' can happen in real data.\n",
        "\n",
        "2.(**5 pts**) Find and mention another example of Simpson's paradox (but not any of the 3 examples given in the Wikipedia entry for 'Simpson's paradox'), state why the paradox appeared in your chosen example. Also give a reference (URL) to your source for the chosen example.\n",
        "\n",
        "## Answer:"
      ]
    },
    {
      "cell_type": "markdown",
      "metadata": {
        "id": "_UQNQeZQMFlS"
      },
      "source": [
        "1. Simpson's Paradox is a phenomenon where relationship between 2 variables is different (or reverses) when looked over the population and when population is divided into groups (not random samples).\n",
        "This happens when data is divided in subgroups, 1 or more of this group is a vastly different representation compared to the other groups. "
      ]
    },
    {
      "cell_type": "markdown",
      "metadata": {
        "id": "3NckZb5ROwWk"
      },
      "source": [
        "https://gib.people.uic.edu/simp.pdf\n",
        "\n",
        "Here, an Index fund or Benchmark fund was divided in to was divided into four categories (based on industries) and each fund manager was handling one.  \n",
        "Although each manager had managed to outperform the subindex fund when their overall return was compared to the index fund, it was less than the return of the Index fund.\n",
        "This happened because the weight of the sector with had the poorest return was higher in the company compared to  the index fund.  Therefore it dragged the overall return more for the Company.\n"
      ]
    },
    {
      "cell_type": "markdown",
      "metadata": {
        "id": "gth0D8jiMBSe"
      },
      "source": [
        "# Question 4: Ridge and Lasso Regression (30 pts)\n",
        "\n",
        "Download the dataset **Admission.csv** from Canvas and use the following codes to import the Admission dataset in Python. \n",
        "\n",
        "There are 7 features in the dataset:\n",
        "\n",
        "1. GRE score\n",
        "2. TOEFL score\n",
        "3. University Rating\n",
        "4. SOP(Statement of Purpose)\n",
        "5. LOR(Letter of Recommendation)\n",
        "6. CGPA\n",
        "7. Research\n",
        "\n",
        "And the target is **Chance of Admission**."
      ]
    },
    {
      "cell_type": "code",
      "metadata": {
        "id": "QFazlpLgGpAa",
        "colab": {
          "resources": {
            "http://localhost:8080/nbextensions/google.colab/files.js": {
              "data": "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",
              "ok": true,
              "headers": [
                [
                  "content-type",
                  "application/javascript"
                ]
              ],
              "status": 200,
              "status_text": ""
            }
          },
          "base_uri": "https://localhost:8080/",
          "height": 72
        },
        "outputId": "d1d69350-34f6-42d5-d080-ab888163bd25"
      },
      "source": [
        "# Only use this code block if you are using Google Colab.\n",
        "# If you are using Jupyter Notebook, please ignore this code block. You can directly upload the file to your Jupyter Notebook file systems.\n",
        "from google.colab import files\n",
        "\n",
        "## It will prompt you to select a local file. Click on “Choose Files” then select and upload the file. \n",
        "## Wait for the file to be 100% uploaded. You should see the name of the file once Colab has uploaded it.\n",
        "uploaded = files.upload()"
      ],
      "execution_count": 1,
      "outputs": [
        {
          "output_type": "display_data",
          "data": {
            "text/html": [
              "\n",
              "     <input type=\"file\" id=\"files-239bf4d4-6f42-4f71-bcbf-d92dbea7b9ea\" name=\"files[]\" multiple disabled\n",
              "        style=\"border:none\" />\n",
              "     <output id=\"result-239bf4d4-6f42-4f71-bcbf-d92dbea7b9ea\">\n",
              "      Upload widget is only available when the cell has been executed in the\n",
              "      current browser session. Please rerun this cell to enable.\n",
              "      </output>\n",
              "      <script src=\"/nbextensions/google.colab/files.js\"></script> "
            ],
            "text/plain": [
              "<IPython.core.display.HTML object>"
            ]
          },
          "metadata": {}
        },
        {
          "output_type": "stream",
          "name": "stdout",
          "text": [
            "Saving Admission.csv to Admission.csv\n"
          ]
        }
      ]
    },
    {
      "cell_type": "code",
      "metadata": {
        "id": "xsPaOOehGuU6"
      },
      "source": [
        "# Codes below will work for both Google Colab and Jupyter Notebook.\n",
        "import numpy as np\n",
        "import pandas as pd\n",
        "import random\n",
        "import sklearn\n",
        "from sklearn import linear_model\n",
        "from sklearn.metrics import mean_absolute_error, mean_squared_error\n",
        "from sklearn.linear_model import LinearRegression\n",
        "from sklearn.model_selection import cross_val_score, RepeatedKFold, KFold\n",
        "\n",
        "\n",
        "## Load the dataset into pandas DataFrame\n",
        "df = pd.read_csv('Admission.csv', index_col=0)\n",
        "df = df.replace([np.inf, -np.inf], np.nan) # \n",
        "df = df.fillna(0) # Replace all the NaN values with 0"
      ],
      "execution_count": 2,
      "outputs": []
    },
    {
      "cell_type": "code",
      "metadata": {
        "id": "PmMz72U6Gv-z",
        "colab": {
          "base_uri": "https://localhost:8080/"
        },
        "outputId": "2fcb238e-40a3-4989-d2cf-04585199a0cf"
      },
      "source": [
        "df.columns # Show you all the columns in this file"
      ],
      "execution_count": 3,
      "outputs": [
        {
          "output_type": "execute_result",
          "data": {
            "text/plain": [
              "Index(['GRE_Score', 'TOEFL_Score', 'University_Rating', 'SOP', 'LOR ', 'CGPA',\n",
              "       'Research', 'Chance_of_Admit'],\n",
              "      dtype='object')"
            ]
          },
          "metadata": {},
          "execution_count": 3
        }
      ]
    },
    {
      "cell_type": "code",
      "metadata": {
        "id": "CyZN-yFfGxlt",
        "colab": {
          "base_uri": "https://localhost:8080/",
          "height": 235
        },
        "outputId": "f105eb29-7f08-4e32-a50d-f3812c500585"
      },
      "source": [
        "df.head() # Show you the first 5 rows in this file"
      ],
      "execution_count": 4,
      "outputs": [
        {
          "output_type": "execute_result",
          "data": {
            "text/html": [
              "<div>\n",
              "<style scoped>\n",
              "    .dataframe tbody tr th:only-of-type {\n",
              "        vertical-align: middle;\n",
              "    }\n",
              "\n",
              "    .dataframe tbody tr th {\n",
              "        vertical-align: top;\n",
              "    }\n",
              "\n",
              "    .dataframe thead th {\n",
              "        text-align: right;\n",
              "    }\n",
              "</style>\n",
              "<table border=\"1\" class=\"dataframe\">\n",
              "  <thead>\n",
              "    <tr style=\"text-align: right;\">\n",
              "      <th></th>\n",
              "      <th>GRE_Score</th>\n",
              "      <th>TOEFL_Score</th>\n",
              "      <th>University_Rating</th>\n",
              "      <th>SOP</th>\n",
              "      <th>LOR</th>\n",
              "      <th>CGPA</th>\n",
              "      <th>Research</th>\n",
              "      <th>Chance_of_Admit</th>\n",
              "    </tr>\n",
              "    <tr>\n",
              "      <th>Serial No.</th>\n",
              "      <th></th>\n",
              "      <th></th>\n",
              "      <th></th>\n",
              "      <th></th>\n",
              "      <th></th>\n",
              "      <th></th>\n",
              "      <th></th>\n",
              "      <th></th>\n",
              "    </tr>\n",
              "  </thead>\n",
              "  <tbody>\n",
              "    <tr>\n",
              "      <th>1</th>\n",
              "      <td>337</td>\n",
              "      <td>118</td>\n",
              "      <td>4</td>\n",
              "      <td>4.5</td>\n",
              "      <td>4.5</td>\n",
              "      <td>9.65</td>\n",
              "      <td>1</td>\n",
              "      <td>0.92</td>\n",
              "    </tr>\n",
              "    <tr>\n",
              "      <th>2</th>\n",
              "      <td>324</td>\n",
              "      <td>107</td>\n",
              "      <td>4</td>\n",
              "      <td>4.0</td>\n",
              "      <td>4.5</td>\n",
              "      <td>8.87</td>\n",
              "      <td>1</td>\n",
              "      <td>0.76</td>\n",
              "    </tr>\n",
              "    <tr>\n",
              "      <th>3</th>\n",
              "      <td>316</td>\n",
              "      <td>104</td>\n",
              "      <td>3</td>\n",
              "      <td>3.0</td>\n",
              "      <td>3.5</td>\n",
              "      <td>8.00</td>\n",
              "      <td>1</td>\n",
              "      <td>0.72</td>\n",
              "    </tr>\n",
              "    <tr>\n",
              "      <th>4</th>\n",
              "      <td>322</td>\n",
              "      <td>110</td>\n",
              "      <td>3</td>\n",
              "      <td>3.5</td>\n",
              "      <td>2.5</td>\n",
              "      <td>8.67</td>\n",
              "      <td>1</td>\n",
              "      <td>0.80</td>\n",
              "    </tr>\n",
              "    <tr>\n",
              "      <th>5</th>\n",
              "      <td>314</td>\n",
              "      <td>103</td>\n",
              "      <td>2</td>\n",
              "      <td>2.0</td>\n",
              "      <td>3.0</td>\n",
              "      <td>8.21</td>\n",
              "      <td>0</td>\n",
              "      <td>0.65</td>\n",
              "    </tr>\n",
              "  </tbody>\n",
              "</table>\n",
              "</div>"
            ],
            "text/plain": [
              "            GRE_Score  TOEFL_Score  ...  Research  Chance_of_Admit\n",
              "Serial No.                          ...                           \n",
              "1                 337          118  ...         1             0.92\n",
              "2                 324          107  ...         1             0.76\n",
              "3                 316          104  ...         1             0.72\n",
              "4                 322          110  ...         1             0.80\n",
              "5                 314          103  ...         0             0.65\n",
              "\n",
              "[5 rows x 8 columns]"
            ]
          },
          "metadata": {},
          "execution_count": 4
        }
      ]
    },
    {
      "cell_type": "code",
      "metadata": {
        "id": "S3TfR0i4G2rO"
      },
      "source": [
        "y = df['Chance_of_Admit'] # The column named Chance_of_Admit is used as the target, and we store it in y\n",
        "X = df.drop(['Chance_of_Admit'], axis=1) # We keep the remaining columns as the features, and store them in x"
      ],
      "execution_count": 5,
      "outputs": []
    },
    {
      "cell_type": "markdown",
      "metadata": {
        "id": "pKq1KERxJw9y"
      },
      "source": [
        "1)(**2 pts**) Split the data into a training set(75% of data) and a test set(25% of data), using the [train_test_split](https://scikit-learn.org/stable/modules/generated/sklearn.model_selection.train_test_split.html) function with random_state = 50. Then scale the data (not including target) so that each of the independent variables would have zero mean and unit variance. You can use the [sklearn.preprocessing.scale](https://scikit-learn.org/stable/modules/generated/sklearn.preprocessing.scale.html) function for this. Print the first 5 rows of the training set after scaling.\n",
        "\n",
        "2)(**5 pts**) Use [sklearn.linear_model.Lasso](https://scikit-learn.org/stable/modules/generated/sklearn.linear_model.Lasso.html) and [sklearn.linear_model.Ridge](https://scikit-learn.org/stable/modules/generated/sklearn.linear_model.Ridge.html) classes to do a **5-fold** cross validation using sklearn's KFold. For the sweep of the regularization parameter, we will look at a grid of values ranging from α=10^10 to α=10^−6. In Python, you can consider this range of values as follows: alpha = 10**numpy.linspace(6,-6,100) \n",
        "so that you can generate 100 uniform values between -6 to 6 as power series.\n",
        "\n",
        "Fit the 2 regression models with scaled data and report the best chosen **α** based on cross validation as well as the corresponding scoring metric. The cross validation should happen on your training data using **MSE** as the scoring metric.\n",
        "\n",
        "3)(**5 pts**) Run ridge and lasso regression for all of the **α** specified above (on training data), and plot the coefficients learned for each of them - there should be one plot each for lasso and ridge, so a total of two plots; different features' weights of each model should be on the same plot with different colors (3pts). \n",
        "\n",
        "What do you qualitatively observe when the value of the regularization parameter changes (2pts)? \n",
        "\n",
        "4)(**3 pts**) Take the exponential of Y_train as the target, and fit the 2 regression models again. Report the best chosen **α** based on cross validation as well as the corresponding scoring metric. Compare the results of using the original target with the results of using the exponential of the target. What do you observe? \n",
        "\n",
        "5)(**5 pts**) Similarly, use [sklearn.linear_model.ElasticNet](https://scikit-learn.org/stable/modules/generated/sklearn.linear_model.ElasticNet.html) to do linear regression with different **α** values, and plot the coefficients learned for each of them (2pts). Observe the plot, then explain the pros and cons of ridge, lasso and Elastic Net models (3pts).\n",
        "\n",
        "\n",
        "6)(**5 pts**) Run the following three regression models with **MSE** loss on the training data: \n",
        "\n",
        "a. linear regression without regularization (1pts)\n",
        "\n",
        "b. linear regression with ridge regularization (2pts)\n",
        "\n",
        "c. linear regression with lasso regularization (2pts)\n",
        "\n",
        "For part (b) and (c), use only the best regularization parameters. Report the MSE and R<sup>2</sup> on the test data for each model.\n",
        "\n",
        "7)(**5 pts**) Train the 3 models and report the metrics with the original data without scaling (3pts). \n",
        "\n",
        "Why do we need to scale the data before regularization (2pts)? \n",
        "\n",
        "## Answer:\n"
      ]
    },
    {
      "cell_type": "markdown",
      "metadata": {
        "id": "Z8hxreYnFUZU"
      },
      "source": [
        "Part 1"
      ]
    },
    {
      "cell_type": "code",
      "metadata": {
        "id": "bHkuH5sYB-GS",
        "colab": {
          "base_uri": "https://localhost:8080/"
        },
        "outputId": "5f0ddf90-8ad8-4cea-b534-940d41829b41"
      },
      "source": [
        "from sklearn.model_selection import train_test_split\n",
        "X_train, X_test, y_train, y_test = train_test_split(X, y, test_size=0.25, random_state=50)\n",
        "\n",
        "X_train = sklearn.preprocessing.scale(X_train, axis=0, with_mean=True, with_std=True, copy=False)\n",
        "X_test = sklearn.preprocessing.scale(X_test, axis=0, with_mean=True, with_std=True, copy=False)\n",
        "\n",
        "X_train[0:5,]"
      ],
      "execution_count": 6,
      "outputs": [
        {
          "output_type": "execute_result",
          "data": {
            "text/plain": [
              "array([[ 1.52725374,  2.0917706 ,  1.61594354,  0.63150829,  1.72829095,\n",
              "         2.11370277,  0.90453403],\n",
              "       [ 0.74180896,  0.46308859, -0.9310778 , -0.35266047, -1.04140609,\n",
              "         0.29488827,  0.90453403],\n",
              "       [ 0.56726568,  0.13735218,  1.61594354,  0.63150829,  0.62041214,\n",
              "         0.26211684,  0.90453403],\n",
              "       [-0.39272239, -0.51412062, -0.08207069,  0.13942391,  0.62041214,\n",
              "        -0.80295471, -1.1055416 ],\n",
              "       [ 0.47999403,  0.78882499,  0.76693642,  1.12359267,  1.17435154,\n",
              "         1.11417408,  0.90453403]])"
            ]
          },
          "metadata": {},
          "execution_count": 6
        }
      ]
    },
    {
      "cell_type": "markdown",
      "metadata": {
        "id": "RXolbAbeFWM7"
      },
      "source": [
        "Part 2"
      ]
    },
    {
      "cell_type": "code",
      "metadata": {
        "id": "JNuVd4qxDMeH"
      },
      "source": [
        "alpha = 10**np.linspace(10,-6,100)"
      ],
      "execution_count": 7,
      "outputs": []
    },
    {
      "cell_type": "code",
      "metadata": {
        "id": "KZtO-QV8VjgC"
      },
      "source": [
        "# Get best alpha for Lasso\n",
        "\n",
        "def Lasso_Best_MSE_Alpha(X, y, alpha):\n",
        "    \n",
        "    alpha_mse = {}\n",
        "\n",
        "    for i in alpha:\n",
        "        model = sklearn.linear_model.Lasso(alpha=i)\n",
        "        kfold = KFold(n_splits=5, shuffle=True).split(X, y)\n",
        "        \n",
        "        accuracies = []\n",
        "\n",
        "        for train, holdout in kfold:\n",
        "            X_train = X[train]\n",
        "            X_holdout = X[holdout]\n",
        "            y_train = y.iloc[train]\n",
        "            y_holdout = y.iloc[holdout]\n",
        "        \n",
        "          # Fit the model\n",
        "            model.fit(X_train, y_train)\n",
        "        \n",
        "          # Compute test accuracy\n",
        "            mse = mean_squared_error(y_holdout, model.predict(X_holdout))\n",
        "            accuracies.append(mse)\n",
        "    \n",
        "        average_accuracy = sum(accuracies)/len(accuracies)\n",
        "\n",
        "        alpha_mse[i] = average_accuracy\n",
        "        \n",
        "        \n",
        "    max_value = min(alpha_mse.values())  \n",
        "    max_keys = [k for k, v in alpha_mse.items() if v == max_value] \n",
        "\n",
        "    return max_keys[0], max_value\n",
        "\n",
        "    # print('The best value of Alpha ', max_keys[0])\n",
        "    # print('MSE is ', max_value)\n",
        "\n",
        "\n",
        "\n",
        "# Get best Alpha for Ridge\n",
        "\n",
        "def Ridge_Best_MSE_Alpha(X, y, alpha):\n",
        "    \n",
        "    alpha_mse = {}\n",
        "\n",
        "    for i in alpha:\n",
        "        model = sklearn.linear_model.Ridge(alpha=i)\n",
        "        kfold = KFold(n_splits=5, shuffle=True).split(X, y)\n",
        "        \n",
        "        accuracies = []\n",
        "\n",
        "        for train, holdout in kfold:\n",
        "            X_train = X[train]\n",
        "            X_holdout = X[holdout]\n",
        "            y_train = y.iloc[train]\n",
        "            y_holdout = y.iloc[holdout]\n",
        "        \n",
        "          # Fit the model\n",
        "            model.fit(X_train, y_train)\n",
        "        \n",
        "          # Compute test accuracy\n",
        "            mse = mean_squared_error(y_holdout, model.predict(X_holdout))\n",
        "            accuracies.append(mse)\n",
        "    \n",
        "        average_accuracy = sum(accuracies)/len(accuracies)\n",
        "\n",
        "        alpha_mse[i] = average_accuracy\n",
        "        \n",
        "        \n",
        "    max_value = min(alpha_mse.values())  \n",
        "    max_keys = [k for k, v in alpha_mse.items() if v == max_value] \n",
        "\n",
        "    return max_keys[0], max_value\n",
        "\n",
        "    # print('The best value of Alpha ', max_keys[0])\n",
        "    # print('MSE is ', max_value)"
      ],
      "execution_count": 8,
      "outputs": []
    },
    {
      "cell_type": "code",
      "metadata": {
        "colab": {
          "base_uri": "https://localhost:8080/"
        },
        "id": "y_AyWcn3VkIv",
        "outputId": "a30d99ae-d5b5-4090-c68b-b481f3ffe472"
      },
      "source": [
        "Best_alpha_Lasso, Lasso_MSE = Lasso_Best_MSE_Alpha(X_train,y_train, alpha)\n",
        "\n",
        "print('The best value of Alpha ', Best_alpha_Lasso)\n",
        "print('MSE is ', Lasso_MSE)"
      ],
      "execution_count": 9,
      "outputs": [
        {
          "output_type": "stream",
          "name": "stdout",
          "text": [
            "The best value of Alpha  9.32603346883218e-06\n",
            "MSE is  0.004013571841384229\n"
          ]
        }
      ]
    },
    {
      "cell_type": "code",
      "metadata": {
        "id": "BNwmUVTZVkLp",
        "colab": {
          "base_uri": "https://localhost:8080/"
        },
        "outputId": "17af4096-4382-48dd-df5e-3f707a5d9142"
      },
      "source": [
        "Best_alpha_Ridge, Ridge_MSE = Ridge_Best_MSE_Alpha(X_train,y_train, alpha)\n",
        "\n",
        "print('The best value of Alpha ', Best_alpha_Ridge)\n",
        "print('MSE is ', Ridge_MSE)"
      ],
      "execution_count": 10,
      "outputs": [
        {
          "output_type": "stream",
          "name": "stdout",
          "text": [
            "The best value of Alpha  0.14849682622544635\n",
            "MSE is  0.003995620831817136\n"
          ]
        }
      ]
    },
    {
      "cell_type": "markdown",
      "metadata": {
        "id": "Kzwe2FLZFOz1"
      },
      "source": [
        "Part 3"
      ]
    },
    {
      "cell_type": "code",
      "metadata": {
        "colab": {
          "base_uri": "https://localhost:8080/",
          "height": 299
        },
        "id": "4Gt-4IB-aZhG",
        "outputId": "51279039-fbac-4c8b-c1c1-8ddb2942fcf8"
      },
      "source": [
        "import matplotlib.pyplot as plt\n",
        "\n",
        "# Lasso Plot\n",
        "coefs = []\n",
        "for a in alpha:\n",
        "    lasso = linear_model.Lasso(alpha=a, fit_intercept=False)\n",
        "    lasso.fit(X_train, y_train)\n",
        "    coefs.append(lasso.coef_)\n",
        "\n",
        "ax = plt.gca()\n",
        "\n",
        "ax.plot(alpha, coefs)\n",
        "ax.set_xscale('log')\n",
        "ax.set_xlim(ax.get_xlim()[::-1])  \n",
        "ax.invert_xaxis()\n",
        "plt.xlabel('alpha')\n",
        "plt.ylabel('weights')\n",
        "plt.title('Lasso coefficients as a function of the regularization')\n",
        "plt.axis('tight')\n",
        "ax.legend(X.columns.values,loc='best')\n",
        "plt.show()\n"
      ],
      "execution_count": 11,
      "outputs": [
        {
          "output_type": "display_data",
          "data": {
            "image/png": "[encoded data removed]",
            "text/plain": [
              "<Figure size 432x288 with 1 Axes>"
            ]
          },
          "metadata": {
            "needs_background": "light"
          }
        }
      ]
    },
    {
      "cell_type": "code",
      "metadata": {
        "colab": {
          "base_uri": "https://localhost:8080/",
          "height": 299
        },
        "id": "y7tLcPVPRRbO",
        "outputId": "bd7b5cc0-49e9-4285-a35f-ec3921735ae3"
      },
      "source": [
        "# Ridge Plot \n",
        "\n",
        "coefs = []\n",
        "for a in alpha:\n",
        "    ridge = linear_model.Ridge(alpha=a, fit_intercept=False)\n",
        "    ridge.fit(X_train, y_train)\n",
        "    coefs.append(ridge.coef_)\n",
        "\n",
        "ax = plt.gca()\n",
        "\n",
        "ax.plot(alpha, coefs)\n",
        "ax.set_xscale('log')\n",
        "ax.set_xlim(ax.get_xlim()[::-1])  \n",
        "ax.invert_xaxis()\n",
        "plt.xlabel('alpha')\n",
        "plt.ylabel('weights')\n",
        "plt.title('Ridge coefficients as a function of the regularization')\n",
        "plt.axis('tight')\n",
        "ax.legend(X.columns.values,loc='best')\n",
        "plt.show()"
      ],
      "execution_count": 12,
      "outputs": [
        {
          "output_type": "display_data",
          "data": {
            "image/png": "[encoded data removed]",
            "text/plain": [
              "<Figure size 432x288 with 1 Axes>"
            ]
          },
          "metadata": {
            "needs_background": "light"
          }
        }
      ]
    },
    {
      "cell_type": "markdown",
      "metadata": {
        "id": "gDwjGK0zFYM_"
      },
      "source": [
        "Part 4"
      ]
    },
    {
      "cell_type": "code",
      "metadata": {
        "id": "9X7RDkocRRe9"
      },
      "source": [
        "from math import exp\n",
        "\n",
        "y_train_exp = np.exp(y_train) "
      ],
      "execution_count": 13,
      "outputs": []
    },
    {
      "cell_type": "code",
      "metadata": {
        "colab": {
          "base_uri": "https://localhost:8080/"
        },
        "id": "k6KrRQ6nnrnz",
        "outputId": "9228c871-7acc-4c63-f50d-d049993c6947"
      },
      "source": [
        "Best_alpha_Lasso_exp, Lasso_MSE_exp = Lasso_Best_MSE_Alpha(X_train,y_train_exp, alpha)\n",
        "\n",
        "print('The best value of Alpha ', Best_alpha_Lasso_exp)\n",
        "print('MSE is ', Lasso_MSE_exp)"
      ],
      "execution_count": 14,
      "outputs": [
        {
          "output_type": "stream",
          "name": "stdout",
          "text": [
            "The best value of Alpha  2.1049041445120134e-06\n",
            "MSE is  0.014297386721066318\n"
          ]
        }
      ]
    },
    {
      "cell_type": "code",
      "metadata": {
        "colab": {
          "base_uri": "https://localhost:8080/"
        },
        "id": "dRxwt-9pnwqs",
        "outputId": "48c9394f-b667-4815-dcdb-7c59e8c5e40b"
      },
      "source": [
        "Ridge_Best_MSE_Alpha(X_train,y_train_exp, alpha)\n",
        "\n",
        "Best_alpha_Ridge_exp, Ridge_MSE_exp = Ridge_Best_MSE_Alpha(X_train,y_train_exp, alpha)\n",
        "\n",
        "print('The best value of Alpha ', Best_alpha_Ridge_exp)\n",
        "print('MSE is ', Ridge_MSE_exp)"
      ],
      "execution_count": 15,
      "outputs": [
        {
          "output_type": "stream",
          "name": "stdout",
          "text": [
            "The best value of Alpha  6.428073117284293e-06\n",
            "MSE is  0.014193004101609053\n"
          ]
        }
      ]
    },
    {
      "cell_type": "markdown",
      "metadata": {
        "id": "bxteuGVAoclh"
      },
      "source": [
        "For both Ridge and Lasso, the MSE increases meaning the fit of the curve worsens."
      ]
    },
    {
      "cell_type": "markdown",
      "metadata": {
        "id": "mr_zsLXiHO1P"
      },
      "source": [
        "Part 5"
      ]
    },
    {
      "cell_type": "code",
      "metadata": {
        "colab": {
          "base_uri": "https://localhost:8080/",
          "height": 299
        },
        "id": "B2boAFpTRRnB",
        "outputId": "cb46f96a-c14f-4668-f372-3b20a7afcf54"
      },
      "source": [
        "# ElasticNet\n",
        "coefs = []\n",
        "for a in alpha:\n",
        "    ridge = linear_model.ElasticNet(alpha=a, fit_intercept=False)\n",
        "    ridge.fit(X_train, y_train)\n",
        "    coefs.append(ridge.coef_)\n",
        "\n",
        "ax = plt.gca()\n",
        "\n",
        "ax.plot(alpha, coefs)\n",
        "ax.set_xscale('log')\n",
        "ax.set_xlim(ax.get_xlim()[::-1])  \n",
        "ax.invert_xaxis()\n",
        "plt.xlabel('alpha')\n",
        "plt.ylabel('weights')\n",
        "plt.title('Elastic Net coefficients as a function of the regularization')\n",
        "plt.axis('tight')\n",
        "ax.legend(X.columns.values,loc='best')\n",
        "plt.show()\n"
      ],
      "execution_count": 16,
      "outputs": [
        {
          "output_type": "display_data",
          "data": {
            "image/png": "[encoded data removed]",
            "text/plain": [
              "<Figure size 432x288 with 1 Axes>"
            ]
          },
          "metadata": {
            "needs_background": "light"
          }
        }
      ]
    },
    {
      "cell_type": "code",
      "metadata": {
        "colab": {
          "base_uri": "https://localhost:8080/"
        },
        "id": "KgnYMzQWpOr0",
        "outputId": "643c92ab-8002-4fbc-d7d9-ff7ae52963c0"
      },
      "source": [
        "def ElasticNet_Best_MSE_Alpha(X, y, alpha):\n",
        "    \n",
        "    alpha_mse = {}\n",
        "\n",
        "    for i in alpha:\n",
        "        model = sklearn.linear_model.ElasticNet(alpha=i)\n",
        "        kfold = KFold(n_splits=5, shuffle=True).split(X, y)\n",
        "        \n",
        "        accuracies = []\n",
        "\n",
        "        for train, holdout in kfold:\n",
        "            X_train = X[train]\n",
        "            X_holdout = X[holdout]\n",
        "            y_train = y.iloc[train]\n",
        "            y_holdout = y.iloc[holdout]\n",
        "        \n",
        "          # Fit the model\n",
        "            model.fit(X_train, y_train)\n",
        "        \n",
        "          # Compute test accuracy\n",
        "            mse = mean_squared_error(y_holdout, model.predict(X_holdout))\n",
        "            accuracies.append(mse)\n",
        "    \n",
        "        average_accuracy = sum(accuracies)/len(accuracies)\n",
        "\n",
        "        alpha_mse[i] = average_accuracy\n",
        "        \n",
        "        \n",
        "    max_value = min(alpha_mse.values())  \n",
        "    max_keys = [k for k, v in alpha_mse.items() if v == max_value] \n",
        "\n",
        "    print('The best value of Alpha ', max_keys[0])\n",
        "    print('MSE is ', max_value)\n",
        "\n",
        "\n",
        "ElasticNet_Best_MSE_Alpha(X_train,y_train, alpha)\n"
      ],
      "execution_count": 17,
      "outputs": [
        {
          "output_type": "stream",
          "name": "stdout",
          "text": [
            "The best value of Alpha  5.994842503189397e-05\n",
            "MSE is  0.003999361983144018\n"
          ]
        }
      ]
    },
    {
      "cell_type": "markdown",
      "metadata": {
        "id": "Q_k50Q8mpCRX"
      },
      "source": [
        "Graphically Lasso and Elastic Net are very close.  Lasso had the best MSE, although marginally "
      ]
    },
    {
      "cell_type": "markdown",
      "metadata": {
        "id": "rov5bfEkp5ZX"
      },
      "source": [
        "Lasso:  Lasso reduces the complexity of the model by reducing the number of features by making the coefficients zero.  For highly collinear variables, Lasso will randomly select a variable and make the others (their coefficients) as zero.\n",
        "Also it can introduce bias by being too dependant on a variable.\n",
        "\n",
        "Ridge:  It reduces the complexity of the model but does not reduce the number of features or variables. \n",
        "\n",
        "\n",
        "ElasticNet: This method combines both Lasso and Ridge and it does not easily eliminate high collinearity variables."
      ]
    },
    {
      "cell_type": "markdown",
      "metadata": {
        "id": "YLDuiE-IH-sB"
      },
      "source": [
        "Part 6"
      ]
    },
    {
      "cell_type": "code",
      "metadata": {
        "id": "pJwSM8ENCYWg",
        "colab": {
          "base_uri": "https://localhost:8080/"
        },
        "outputId": "1def1785-db13-4310-cbfb-dc0a4be8a1b0"
      },
      "source": [
        "# Linear Regression\n",
        "model = sklearn.linear_model.LinearRegression()\n",
        "result = model.fit(X_train, y_train)\n",
        "print('Linear Regression')\n",
        "print('MSE is ', sklearn.metrics.mean_squared_error(y_test, result.predict(X_test)))\n",
        "print('R^2 is ', sklearn.metrics.r2_score(y_test, result.predict(X_test)),'\\n')\n",
        "\n",
        "\n",
        "# Lasso Regression\n",
        "model = sklearn.linear_model.Lasso(alpha= Best_alpha_Lasso)\n",
        "result2 = model.fit(X_train, y_train)\n",
        "print('Lasso Regression')\n",
        "print('MSE is ', sklearn.metrics.mean_squared_error(y_test, result2.predict(X_test)))\n",
        "print('R^2 is ', sklearn.metrics.r2_score(y_test, result2.predict(X_test)),'\\n')\n",
        "\n",
        "# Ridge Regression\n",
        "model = sklearn.linear_model.Ridge(alpha= Best_alpha_Ridge)\n",
        "result3 = model.fit(X_train, y_train)\n",
        "print('Ridge Regression')\n",
        "print('MSE is ', sklearn.metrics.mean_squared_error(y_test, result3.predict(X_test)))\n",
        "print('R^2 is ', sklearn.metrics.r2_score(y_test, result3.predict(X_test)),'\\n')\n",
        "\n"
      ],
      "execution_count": 18,
      "outputs": [
        {
          "output_type": "stream",
          "name": "stdout",
          "text": [
            "Linear Regression\n",
            "MSE is  0.005200215496311305\n",
            "R^2 is  0.6910288907914796 \n",
            "\n",
            "Lasso Regression\n",
            "MSE is  0.005199932311517346\n",
            "R^2 is  0.6910457162326488 \n",
            "\n",
            "Ridge Regression\n",
            "MSE is  0.005198257949235626\n",
            "R^2 is  0.6911451985659802 \n",
            "\n"
          ]
        }
      ]
    },
    {
      "cell_type": "markdown",
      "metadata": {
        "id": "4JnN1ud7R5C6"
      },
      "source": [
        "Part 7"
      ]
    },
    {
      "cell_type": "code",
      "metadata": {
        "id": "QAXyjNEsIJqq"
      },
      "source": [
        "X_train_noscale, X_test_noscale, y_train_noscale, y_test_noscale = train_test_split(X, y, test_size=0.25, random_state=50)"
      ],
      "execution_count": 19,
      "outputs": []
    },
    {
      "cell_type": "code",
      "metadata": {
        "id": "zeMle5_qs15p"
      },
      "source": [
        "# Defining Function on No Scale Inputs\n",
        "\n",
        "# Get best alpha for Lasso\n",
        "\n",
        "def Lasso_Best_MSE_Alpha_no_scale(X, y, alpha,xt,yt):\n",
        "    \n",
        "    print('Lasso Regression')\n",
        "\n",
        "    alpha_mse = {}\n",
        "\n",
        "    for i in alpha:\n",
        "        model = sklearn.linear_model.Lasso(alpha=i)\n",
        "        kfold = KFold(n_splits=5, shuffle=True).split(X, y)\n",
        "        \n",
        "        accuracies = []\n",
        "\n",
        "        for train, holdout in kfold:\n",
        "            X_train = X.iloc[train]\n",
        "            X_holdout = X.iloc[holdout]\n",
        "            y_train = y.iloc[train]\n",
        "            y_holdout = y.iloc[holdout]\n",
        "        \n",
        "          # Fit the model\n",
        "            model.fit(X_train, y_train)\n",
        "        \n",
        "          # Compute test accuracy\n",
        "            mse = mean_squared_error(y_holdout, model.predict(X_holdout))\n",
        "            accuracies.append(mse)\n",
        "    \n",
        "        average_accuracy = sum(accuracies)/len(accuracies)\n",
        "\n",
        "        alpha_mse[i] = average_accuracy\n",
        "        \n",
        "        \n",
        "    max_value = min(alpha_mse.values())  \n",
        "    max_keys = [k for k, v in alpha_mse.items() if v == max_value] \n",
        "\n",
        "    print('The best value of Alpha ', max_keys[0])\n",
        "\n",
        "\n",
        "    model = sklearn.linear_model.Ridge(alpha = max_keys[0])\n",
        "    result = model.fit(X, y)\n",
        "\n",
        "    print('Test MSE is ', sklearn.metrics.mean_squared_error(yt, result.predict(xt)))\n",
        "    print('R^2 is ', sklearn.metrics.r2_score(yt, result.predict(xt)),'\\n')\n"
      ],
      "execution_count": 20,
      "outputs": []
    },
    {
      "cell_type": "code",
      "metadata": {
        "id": "TASU745vXNZg"
      },
      "source": [
        "# Get best Alpha for Ridge\n",
        "\n",
        "def Ridge_Best_MSE_Alpha_no_scale(X, y, alpha,xt,yt):\n",
        "    \n",
        "    print('Ridge Regression')\n",
        "    \n",
        "    alpha_mse = {}\n",
        "\n",
        "    for i in alpha:\n",
        "        model = sklearn.linear_model.Ridge(alpha=i)\n",
        "        kfold = KFold(n_splits=5, shuffle=True).split(X, y)\n",
        "        \n",
        "        accuracies = []\n",
        "\n",
        "        for train, holdout in kfold:\n",
        "            X_train = X.iloc[train]\n",
        "            X_holdout = X.iloc[holdout]\n",
        "            y_train = y.iloc[train]\n",
        "            y_holdout = y.iloc[holdout]\n",
        "        \n",
        "          # Fit the model\n",
        "            model.fit(X_train, y_train)\n",
        "        \n",
        "          # Compute test accuracy\n",
        "            mse = mean_squared_error(y_holdout, model.predict(X_holdout))\n",
        "            accuracies.append(mse)\n",
        "    \n",
        "        average_accuracy = sum(accuracies)/len(accuracies)\n",
        "\n",
        "        alpha_mse[i] = average_accuracy\n",
        "        \n",
        "        \n",
        "    max_value = min(alpha_mse.values())  \n",
        "    max_keys = [k for k, v in alpha_mse.items() if v == max_value] \n",
        "\n",
        "    print('The best value of Alpha ', max_keys[0])\n",
        "\n",
        "\n",
        "    model = sklearn.linear_model.Ridge(alpha = max_keys[0])\n",
        "    result = model.fit(X, y)\n",
        "\n",
        "    print('Test MSE is ', sklearn.metrics.mean_squared_error(yt, result.predict(xt)))\n",
        "    print('R^2 is ', sklearn.metrics.r2_score(yt, result.predict(xt)),'\\n')\n"
      ],
      "execution_count": 21,
      "outputs": []
    },
    {
      "cell_type": "code",
      "metadata": {
        "colab": {
          "base_uri": "https://localhost:8080/"
        },
        "id": "AX7hafFHSJkW",
        "outputId": "795f75e8-d7d4-47dd-ab77-08fa1b40ee60"
      },
      "source": [
        "# Linear Regression on Test Data\n",
        "model = sklearn.linear_model.LinearRegression()\n",
        "result = model.fit(X_train_noscale, y_train_noscale)\n",
        "print('Linear Regression')\n",
        "print('MSE is ', sklearn.metrics.mean_squared_error(y_test_noscale, result.predict(X_test_noscale)))\n",
        "print('R^2 is ', sklearn.metrics.r2_score(y_test_noscale, result.predict(X_test_noscale)),'\\n')"
      ],
      "execution_count": 22,
      "outputs": [
        {
          "output_type": "stream",
          "name": "stdout",
          "text": [
            "Linear Regression\n",
            "MSE is  0.004526319242200032\n",
            "R^2 is  0.731068476318641 \n",
            "\n"
          ]
        }
      ]
    },
    {
      "cell_type": "code",
      "metadata": {
        "colab": {
          "base_uri": "https://localhost:8080/"
        },
        "id": "nBpj4f71uXoG",
        "outputId": "a75d91e5-fc47-4341-bff3-1c90e6ec85ab"
      },
      "source": [
        "# Lasso Regression on Test Data\n",
        "\n",
        "Lasso_Best_MSE_Alpha_no_scale(X_train_noscale, y_train_noscale, alpha, X_test_noscale, y_test_noscale)"
      ],
      "execution_count": 23,
      "outputs": [
        {
          "output_type": "stream",
          "name": "stdout",
          "text": [
            "Lasso Regression\n",
            "The best value of Alpha  0.0002656087782946684\n",
            "Test MSE is  0.004526316787443071\n",
            "R^2 is  0.7310686221681701 \n",
            "\n"
          ]
        }
      ]
    },
    {
      "cell_type": "code",
      "metadata": {
        "colab": {
          "base_uri": "https://localhost:8080/"
        },
        "id": "DWDAYolGvGFj",
        "outputId": "43fadb68-16d4-408c-dcb4-3e8900e07fc6"
      },
      "source": [
        "# Ridge Regression on Test Data\n",
        "\n",
        "Ridge_Best_MSE_Alpha_no_scale(X_train_noscale, y_train_noscale, alpha, X_test_noscale, y_test_noscale)"
      ],
      "execution_count": 24,
      "outputs": [
        {
          "output_type": "stream",
          "name": "stdout",
          "text": [
            "Ridge Regression\n",
            "The best value of Alpha  0.015922827933410873\n",
            "Test MSE is  0.004526172686953427\n",
            "R^2 is  0.7310771839072276 \n",
            "\n"
          ]
        }
      ]
    },
    {
      "cell_type": "markdown",
      "metadata": {
        "id": "nTdr-5BHy-VW"
      },
      "source": [
        "We need to scale the data so that the all coefficients are penalised wrt their relationship to the output parameter and not on the scale of the variable."
      ]
    }
  ]
}