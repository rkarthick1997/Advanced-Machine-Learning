{
 "cells": [
  {
   "cell_type": "markdown",
   "metadata": {
    "id": "8R_k_q-xlwE7"
   },
   "source": [
    "# <p style=\"text-align: center;\">MIS 382N: Advanced Machine Learning</p>\n",
    "# <p style=\"text-align: center;\">Homework 4</p>\n",
    "### <p style=\"text-align: center;\">Total points: 55 </p>\n",
    "## <p style=\"text-align: center;\">Due: Wed, **Nov, 3rd** submitted via Canvas by 11:59 pm</p>\n",
    "\n",
    "Your homework should be written in a **Jupyter notebook**. Please make sure your code runs and the graphics (and anything else) are displayed in your notebook before submitting (%matplotlib inline). \n",
    "\n",
    "**Note: Notebooks MUST have the images embedded in them. There will be no regrades if attached images do not render in the notebook. Please re download from canvas after submission and make sure all attached images render without errors. (Hint: Image module from IPython.display)**"
   ]
  },
  {
   "cell_type": "markdown",
   "metadata": {
    "id": "K62r4Kaoly_t"
   },
   "source": [
    "**This can be an individual assignment or group of 2. If you choose to do it as a group, please specify who you are working with (name and EID), then only one student should submit the homework. Put your name and eid here.**\n",
    "\n",
    "Name: Karthick Ramasubramanian\n",
    "\n",
    "EID: KR33733\n"
   ]
  },
  {
   "cell_type": "markdown",
   "metadata": {
    "id": "dJFRr3e-J9lr"
   },
   "source": [
    "## Question 1: Reject option (10 pts)\n",
    "\n",
    "Consider a binary classification problem with the following loss matrix, where the cost of rejection is a constant. \n",
    "\n",
    "$$\n",
    "   {\\begin{array}{ccccc}\n",
    "   & & \\text{Predicted class} & \\text{           } &\\\\\n",
    "   & & C_1 & C_2 & Reject\\\\\n",
    "   \\text{True class} & C_1 & 0 & 2 & c  \\\\\n",
    "   & C_2 & 4 & 0 & c \\\\\n",
    "  \\end{array} } \n",
    "$$\n",
    "\n",
    "If $c$ = 1, determine the respective predicted classes that will minimize the expected loss when $P(C_1|x)$ falls in different value intervals. That is, please give the decision rules for $C_1$, $C_2$ and $Reject$."
   ]
  },
  {
   "cell_type": "markdown",
   "metadata": {
    "id": "p3dMm-ADQ9sr"
   },
   "source": [
    "## Answer:\n",
    "\n",
    "If P(C1/x) > 0.75, predict C1\n",
    "\n",
    "If P(C1/x) < 0.50, predict C2\n",
    "\n",
    "Else Reject"
   ]
  },
  {
   "cell_type": "markdown",
   "metadata": {
    "id": "PXZOdsIClzeq"
   },
   "source": [
    "# Question 2: Logistic Regression (15 pts) \n",
    "\n",
    "Logistic regression has been traditionally used to classify data when a **linear decision boundary** is adequate. However, having an idea of what the distribution looks like could help one come up with a smart data transformation trick that could make the optimal decision boundary become (near) linear in the transformed space. In this question, you are given 2-dimensional data, and each data point belongs to either class 0 or class 1. \n",
    "\n",
    "a) **(5 pts)** Train a logistic regression classifier using X_train, y_train. Use the trained model to make predictions on X_train, X_test respectively, and then report the accuracies and F1-scores. Sklearn has a very nice [utility](https://scikit-learn.org/stable/modules/generated/sklearn.metrics.classification_report.html) that helps compute the precision, recall, accuracy and F1-scores. \n",
    "\n",
    "b) **(5 pts)** Plot the X_train data using matplotlib, use different colors to represent different classes. Comment on the pattern of data distributions, and reason why the logistic regression classifier in (a) does not perform very well.  \n",
    "\n",
    "c) **(5 pts)** Transform the input X_train and X_test data in such a way that a linear decision boundary will be effective. Train a new logistic regression classifier on this transformed X_train data. Use the trained model to make predictions on transformed X_train, transformed X_test respectively, and then report the accuracies and F1-scores. \n",
    "\n",
    "**Hint**: Carefully analyze the plot you made in (b), observe the decision boundaries, which should guide you towards the right direction."
   ]
  },
  {
   "cell_type": "code",
   "execution_count": 1,
   "metadata": {
    "id": "O1T7hgXEnADb"
   },
   "outputs": [],
   "source": [
    "import numpy as np\n",
    "\n",
    "data = np.load('q2_data.npy', allow_pickle=True)\n",
    "\n",
    "X_train, y_train = data.item().get('X_train'), data.item().get('y_train')\n",
    "X_test, y_test = data.item().get('X_test'), data.item().get('y_test')"
   ]
  },
  {
   "cell_type": "markdown",
   "metadata": {
    "id": "8Pcj3TgwnCpr"
   },
   "source": [
    "## Answer:"
   ]
  },
  {
   "cell_type": "code",
   "execution_count": 2,
   "metadata": {},
   "outputs": [],
   "source": [
    "import pandas as pd\n",
    "from sklearn.model_selection import train_test_split\n",
    "from sklearn.preprocessing import StandardScaler\n",
    "from sklearn import metrics\n",
    "\n",
    "from sklearn.linear_model import LogisticRegression\n",
    "\n",
    "%matplotlib inline\n",
    "import matplotlib.pyplot as plt"
   ]
  },
  {
   "cell_type": "code",
   "execution_count": 3,
   "metadata": {},
   "outputs": [
    {
     "name": "stdout",
     "output_type": "stream",
     "text": [
      "Train\n",
      "Train Accuracy Score  0.71 \n",
      "\n",
      "              precision    recall  f1-score   support\n",
      "\n",
      "       False       0.71      1.00      0.83       214\n",
      "        True       0.00      0.00      0.00        86\n",
      "\n",
      "    accuracy                           0.71       300\n",
      "   macro avg       0.36      0.50      0.42       300\n",
      "weighted avg       0.51      0.71      0.59       300\n",
      "\n",
      "Test\n",
      "Test Accuracy Score  0.69 \n",
      "\n",
      "              precision    recall  f1-score   support\n",
      "\n",
      "       False       0.69      1.00      0.82        69\n",
      "        True       0.00      0.00      0.00        31\n",
      "\n",
      "    accuracy                           0.69       100\n",
      "   macro avg       0.34      0.50      0.41       100\n",
      "weighted avg       0.48      0.69      0.56       100\n",
      "\n"
     ]
    },
    {
     "name": "stderr",
     "output_type": "stream",
     "text": [
      "C:\\ProgramData\\Anaconda3\\lib\\site-packages\\sklearn\\metrics\\_classification.py:1221: UndefinedMetricWarning: Precision and F-score are ill-defined and being set to 0.0 in labels with no predicted samples. Use `zero_division` parameter to control this behavior.\n",
      "  _warn_prf(average, modifier, msg_start, len(result))\n"
     ]
    }
   ],
   "source": [
    "model = LogisticRegression().fit(X_train, y_train)\n",
    "\n",
    "prediction_train = model.predict(X_train)\n",
    "prediction_test = model.predict(X_test)\n",
    "\n",
    "\n",
    "print('Train')\n",
    "print('Train Accuracy Score ', round(metrics.accuracy_score(y_train, prediction_train),2),'\\n')\n",
    "print(metrics.classification_report(y_train, prediction_train))\n",
    "\n",
    "\n",
    "print('Test')\n",
    "print('Test Accuracy Score ', round(metrics.accuracy_score(y_test, prediction_test),2),'\\n')\n",
    "print(metrics.classification_report(y_test, prediction_test))"
   ]
  },
  {
   "cell_type": "code",
   "execution_count": null,
   "metadata": {},
   "outputs": [],
   "source": []
  },
  {
   "cell_type": "code",
   "execution_count": 4,
   "metadata": {},
   "outputs": [
    {
     "data": {
      "image/png": "[encoded data removed]",
      "text/plain": [
       "<Figure size 432x288 with 1 Axes>"
      ]
     },
     "metadata": {
      "needs_background": "light"
     },
     "output_type": "display_data"
    }
   ],
   "source": [
    "plt.scatter(X_train[:,1], X_train[:,0], marker = '.', c=y_train)\n",
    "plt.scatter(X_test[:,1], X_test[:,0], marker = '.', c=y_test)\n",
    "\n",
    "plt.xlabel('x1')\n",
    "plt.ylabel('x2')\n",
    "plt.show()"
   ]
  },
  {
   "cell_type": "code",
   "execution_count": 5,
   "metadata": {},
   "outputs": [],
   "source": [
    "x_train_trans = np.zeros((len(X_train),4))\n",
    "x_train_trans[:,0] = X_train[:,0]\n",
    "x_train_trans[:,1] = X_train[:,1]\n",
    "x_train_trans[:,2] = X_train[:,0]**2\n",
    "x_train_trans[:,3] = X_train[:,1]**2\n",
    "\n",
    "x_test_trans = np.zeros((len(X_test),4))\n",
    "x_test_trans[:,0] = X_test[:,0]\n",
    "x_test_trans[:,1] = X_test[:,1]\n",
    "x_test_trans[:,2] = X_test[:,0]**2\n",
    "x_test_trans[:,3] = X_test[:,1]**2"
   ]
  },
  {
   "cell_type": "code",
   "execution_count": 6,
   "metadata": {},
   "outputs": [
    {
     "name": "stdout",
     "output_type": "stream",
     "text": [
      "Train\n",
      "Train Accuracy Score  1.0 \n",
      "\n",
      "              precision    recall  f1-score   support\n",
      "\n",
      "       False       1.00      1.00      1.00       214\n",
      "        True       1.00      1.00      1.00        86\n",
      "\n",
      "    accuracy                           1.00       300\n",
      "   macro avg       1.00      1.00      1.00       300\n",
      "weighted avg       1.00      1.00      1.00       300\n",
      "\n",
      "Test\n",
      "Test Accuracy Score  1.0 \n",
      "\n",
      "              precision    recall  f1-score   support\n",
      "\n",
      "       False       1.00      1.00      1.00        69\n",
      "        True       1.00      1.00      1.00        31\n",
      "\n",
      "    accuracy                           1.00       100\n",
      "   macro avg       1.00      1.00      1.00       100\n",
      "weighted avg       1.00      1.00      1.00       100\n",
      "\n"
     ]
    }
   ],
   "source": [
    "model = LogisticRegression().fit(x_train_trans, y_train)\n",
    "\n",
    "prediction_train = model.predict(x_train_trans)\n",
    "prediction_test = model.predict(x_test_trans)\n",
    "\n",
    "\n",
    "print('Train')\n",
    "print('Train Accuracy Score ', round(metrics.accuracy_score(y_train, prediction_train),2),'\\n')\n",
    "print(metrics.classification_report(y_train, prediction_train))\n",
    "\n",
    "\n",
    "print('Test')\n",
    "print('Test Accuracy Score ', round(metrics.accuracy_score(y_test, prediction_test),2),'\\n')\n",
    "print(metrics.classification_report(y_test, prediction_test))"
   ]
  },
  {
   "cell_type": "markdown",
   "metadata": {
    "id": "3kuJ3AByMTpI"
   },
   "source": [
    "# Question 3: Bayesian Network (5 pts)\n",
    "\n",
    "A Bayesian network is a directed acyclic graph (DAG) that captures a subset of the independence relationships of a given joint probability distribution. \n",
    "\n",
    "In a Bayesian network $G=(V,E)$, each node $i \\in V$in the directed graph corresponds to a random variable and each directed edge $e \\in E$ represents a statistical dependence. Each node is associated with a conditional probability distribution of the corresponding random variables given its parents in the DAG. The joint probability distribution factorizes w.r.t the directed graph $G$ if $p(x_1, ..., x_n)=\\prod_{i \\in V} p(x_i | x_{parents(i)})$, provided the variables are visited in a topologically sorted order. Please write the joint probability distribution that factorizes w.r.t this graph, in as simple a form as possible (i.e. that results in the smallest possible conditional probability tables:\n"
   ]
  },
  {
   "cell_type": "code",
   "execution_count": 7,
   "metadata": {
    "colab": {
     "base_uri": "https://localhost:8080/",
     "height": 505
    },
    "id": "sfd86n0uP0dp",
    "outputId": "6cad03b4-86b3-4912-84df-dc378b00cbbb"
   },
   "outputs": [
    {
     "data": {
      "text/html": [
       "<iframe src=\"https://drive.google.com/file/d/1XigbvsWpNvlols3QarVjDfYf2Dnf3emy/preview\" width=\"640\" height=\"480\" allow=\"autoplay\"></iframe>\n"
      ],
      "text/plain": [
       "<IPython.core.display.HTML object>"
      ]
     },
     "metadata": {},
     "output_type": "display_data"
    }
   ],
   "source": [
    "%%html\n",
    "<iframe src=\"https://drive.google.com/file/d/1XigbvsWpNvlols3QarVjDfYf2Dnf3emy/preview\" width=\"640\" height=\"480\" allow=\"autoplay\"></iframe>"
   ]
  },
  {
   "cell_type": "markdown",
   "metadata": {
    "id": "_kUqyveiP6zV"
   },
   "source": [
    "## Answer:\n"
   ]
  },
  {
   "cell_type": "markdown",
   "metadata": {},
   "source": [
    "P(A).P(B/A).P(D/B).P(E/B).P(C/A.E).P(F/D.E.C)"
   ]
  },
  {
   "cell_type": "markdown",
   "metadata": {
    "id": "KPukziKknW3K"
   },
   "source": [
    "# Question 4: Counterfactuals (25 pts)\n"
   ]
  },
  {
   "cell_type": "markdown",
   "metadata": {
    "id": "tASB8c_MJ2ZD"
   },
   "source": [
    "To show the effectiveness of a newly proposed model, one needs to compare it with multiple  existing solutions, across multiple datasets with different properties, and typically using multiple evaluation metrics. \n",
    "\n",
    "One of the emerging requirements in industry is to be able to explain decisions, and counterfactual (CF) explanations turn out to be a lead contender. Hence a new CF approach also needs to be evaluated comprehensively. See [1] for a review on conterfactual explanations. \n",
    "\n",
    "An example of a short comparative testing for CFs is given in [2], (you don’t need to understand the method in [2] since I have not covered this type of techinques in class, just see the result tables). The goal of this question is to **try to obtain results that are similar to those reported in [2]** (note that they give details of their model settings in the appendix). In particular, you will evaluate the following datasets: Breast Cancer, Pima diabetes and Adult Census across 5 metrics (Validity, sparsity, proximity, diversity, in-distributionness). \n",
    "\n",
    "**Note**: **Section A** students only need to report on the **Breat Cancer and Adult Census datasets** while **Section B** students only need to report results on the **Pima diabetes and Adult Census datasets**.\n",
    "\n",
    "[1] Verma, Dickerson, Hines. Counterfactual Explanations for Machine Learning: A Review. [arXiv:2010.10596](https://arxiv.org/abs/2010.10596) (2020) \n",
    "\n",
    "[2] Samoilescu, et al. Model-agnostic and Scalable Counterfactual Explanations via Reinforcement Learning.  [arXiv:2106.02597](https://arxiv.org/abs/2106.02597) (2021) \n",
    "\n",
    "\n",
    "a) Train **Random Forest, MLP and Logistic Regression** models on your datasets and report the accuracies on each of the datasets, show the accuracy on both the training and test set in a table.\n",
    "\n",
    "Use the code snippets given below to load the datasets and make the split using the following code snippet: ```X_train, X_test, y_train, y_test = train_test_split(X, y, test_size=0.33, random_state=42)``` \n",
    "\n",
    "```\n",
    "# Breast cancer dataset, for Section A only\n",
    "from sklearn.datasets import load_breast_cancer\n",
    "\n",
    "data = load_breast_cancer()\n",
    "X = data.data\n",
    "y = data.target\n",
    "cols = ['mean radius', 'mean texture', 'mean perimeter', 'mean area',\n",
    "        'mean smoothness', 'mean compactness', 'mean concavity',\n",
    "        'mean concave points', 'mean symmetry', 'mean fractal dimension',\n",
    "        'radius error', 'texture error', 'perimeter error', 'area error',\n",
    "        'smoothness error', 'compactness error', 'concavity error',\n",
    "        'concave points error', 'symmetry error',\n",
    "        'fractal dimension error', 'worst radius', 'worst texture',\n",
    "        'worst perimeter', 'worst area', 'worst smoothness',\n",
    "        'worst compactness', 'worst concavity', 'worst concave points',\n",
    "        'worst symmetry', 'worst fractal dimension']\n",
    "X = pd.DataFrame(data=X, columns=cols)\n",
    "\n",
    "# Pima Diabetes dataset, for Section B only\n",
    "def load_diabetes():\n",
    "  df = pd.read_csv('diabetes.csv')\n",
    "  X = df.drop(['Outcome'], axis=1)\n",
    "  y = df[['Outcome']]\n",
    "  return X, np.reshape(y, (-1, ))\n",
    "\n",
    "X, y = load_diabetes()\n",
    "\n",
    "# adult census dataset, for Section A and Section B\n",
    "def load_adult():\n",
    "  df = pd.read_csv('adult.csv')\n",
    "  df = pd.get_dummies(df)\n",
    "  X = df.drop(['target'], axis=1)\n",
    "  y = df[['target']]\n",
    "  return X, np.reshape(y, (-1, ))\n",
    "\n",
    "X, y = load_adult()\n",
    "```\n",
    "b) For each of the datasets, plot the calibration curves for the entire dataset. The [module](https://scikit-learn.org/stable/modules/calibration.html) from sklearn should help.\n",
    "\n",
    "For each dataset, the calibration curve should show a y=x line as the perfect calibration, as well as the calibration curves for each of the model predictions. Mark the plots correctly using a legend.\n",
    "\n",
    "c) [DiCE](https://github.com/interpretml/DiCE) is an open-source library that is based on the paper [Explaining Machine Learning Classifiers through Diverse Counterfactual Explanations](https://arxiv.org/abs/1905.07697). The codebase has 3 methods in which they generate counterfactuals - random sampling, KD-tree and genetic algorithm. Use DiCE (random) and DiCE (genetic) to generate 5 counterfactuals each for the first 50 data point in the test set for each of the models. Report the following metrics for each of the datasets and each of the models. So essentially, you will need to create a table for each dataset where the metrics are present in the columns and each row represents a different model. \n",
    "\n",
    "Here are some pointers that will help you get started with DiCE and the metrics needed. \n",
    "- Install the library using ```!pip install dice-ml```\n",
    "- They have an excellent documentation on their GitHub, and their implementation notebooks will be very helpful. You can check [this](https://github.com/interpretml/DiCE/blob/master/docs/source/notebooks/DiCE_model_agnostic_CFs.ipynb) to get started.\n",
    "- Section 4.1 in the [DiCE paper](https://arxiv.org/pdf/1905.07697.pdf) discuss and mathematically formulate validity, sparsity, diversity and proximity. Read those carefully and implement functions that can evaluate the metrics. Use the ```Continuous-Proximity``` metric just for simplicity. Use the ```Diversity``` metric and not ```Count-Diversity```.\n",
    "- For the in-distributionness, use the following code snippet to evaluate the MMD (maximum mean discrepancy) score.\n",
    "\n",
    "```\n",
    "def get_mmd_rbf(X, Y, gamma=1.0):\n",
    "    \"\"\"MMD using rbf (gaussian) kernel (i.e., k(x,y) = exp(-gamma * ||x-y||^2 / 2))\n",
    "    Arguments:\n",
    "        X {[n_sample1, dim]} -- [X matrix]\n",
    "        Y {[n_sample2, dim]} -- [Y matrix]\n",
    "    Keyword Arguments:\n",
    "        gamma {float} -- [kernel parameter] (default: {1.0})\n",
    "    Returns:\n",
    "        [scalar] -- [MMD value]\n",
    "    \"\"\"\n",
    "    XX = metrics.pairwise.rbf_kernel(X, X, gamma)\n",
    "    YY = metrics.pairwise.rbf_kernel(Y, Y, gamma)\n",
    "    XY = metrics.pairwise.rbf_kernel(X, Y, gamma)\n",
    "    return XX.mean() + YY.mean() - 2 * XY.mean()\n",
    "```\n"
   ]
  },
  {
   "cell_type": "markdown",
   "metadata": {
    "id": "gcLazqf-DLkq"
   },
   "source": [
    "## Answer:"
   ]
  },
  {
   "cell_type": "code",
   "execution_count": 1,
   "metadata": {},
   "outputs": [],
   "source": [
    "import pandas as pd\n",
    "import numpy as np\n",
    "from sklearn.model_selection import train_test_split\n",
    "from sklearn.preprocessing import StandardScaler, OneHotEncoder\n",
    "from sklearn import metrics\n",
    "\n",
    "from sklearn.linear_model import LogisticRegression\n",
    "from sklearn.ensemble import RandomForestClassifier\n",
    "from sklearn.neural_network import MLPClassifier\n",
    "\n",
    "from sklearn.calibration import calibration_curve\n",
    "\n",
    "%matplotlib inline\n",
    "import matplotlib.pyplot as plt\n",
    "\n",
    "# !pip install dice-ml\n",
    "import dice_ml\n",
    "\n",
    "from sklearn.pipeline import Pipeline\n",
    "from sklearn.compose import ColumnTransformer"
   ]
  },
  {
   "cell_type": "markdown",
   "metadata": {},
   "source": [
    "### Dataset 1"
   ]
  },
  {
   "cell_type": "code",
   "execution_count": 2,
   "metadata": {},
   "outputs": [],
   "source": [
    "# Breast cancer dataset, for Section A only\n",
    "from sklearn.datasets import load_breast_cancer\n",
    "\n",
    "model_accuracy = pd.DataFrame(columns=['Model','Train_Error','Test_Error'])\n",
    "data = load_breast_cancer()\n",
    "X = data.data\n",
    "y = data.target\n",
    "cols = ['mean radius', 'mean texture', 'mean perimeter', 'mean area',\n",
    "        'mean smoothness', 'mean compactness', 'mean concavity',\n",
    "        'mean concave points', 'mean symmetry', 'mean fractal dimension',\n",
    "        'radius error', 'texture error', 'perimeter error', 'area error',\n",
    "        'smoothness error', 'compactness error', 'concavity error',\n",
    "        'concave points error', 'symmetry error',\n",
    "        'fractal dimension error', 'worst radius', 'worst texture',\n",
    "        'worst perimeter', 'worst area', 'worst smoothness',\n",
    "        'worst compactness', 'worst concavity', 'worst concave points',\n",
    "        'worst symmetry', 'worst fractal dimension']\n",
    "X = pd.DataFrame(data=X, columns=cols)\n",
    "X_train, X_test, y_train, y_test = train_test_split(X, y, test_size=0.33, random_state=42)"
   ]
  },
  {
   "cell_type": "code",
   "execution_count": 3,
   "metadata": {},
   "outputs": [],
   "source": [
    "X_train_scaled = StandardScaler().fit_transform(X_train)\n",
    "X_test_scaled = StandardScaler().fit_transform(X_test)"
   ]
  },
  {
   "cell_type": "code",
   "execution_count": 4,
   "metadata": {},
   "outputs": [
    {
     "data": {
      "text/html": [
       "<div>\n",
       "<style scoped>\n",
       "    .dataframe tbody tr th:only-of-type {\n",
       "        vertical-align: middle;\n",
       "    }\n",
       "\n",
       "    .dataframe tbody tr th {\n",
       "        vertical-align: top;\n",
       "    }\n",
       "\n",
       "    .dataframe thead th {\n",
       "        text-align: right;\n",
       "    }\n",
       "</style>\n",
       "<table border=\"1\" class=\"dataframe\">\n",
       "  <thead>\n",
       "    <tr style=\"text-align: right;\">\n",
       "      <th></th>\n",
       "      <th>Model</th>\n",
       "      <th>Train_Error</th>\n",
       "      <th>Test_Error</th>\n",
       "    </tr>\n",
       "  </thead>\n",
       "  <tbody>\n",
       "    <tr>\n",
       "      <th>0</th>\n",
       "      <td>Logistic</td>\n",
       "      <td>0.986877</td>\n",
       "      <td>0.994681</td>\n",
       "    </tr>\n",
       "    <tr>\n",
       "      <th>1</th>\n",
       "      <td>Random Forest</td>\n",
       "      <td>1.000000</td>\n",
       "      <td>0.962766</td>\n",
       "    </tr>\n",
       "    <tr>\n",
       "      <th>2</th>\n",
       "      <td>Neural Network</td>\n",
       "      <td>0.979003</td>\n",
       "      <td>0.984043</td>\n",
       "    </tr>\n",
       "  </tbody>\n",
       "</table>\n",
       "</div>"
      ],
      "text/plain": [
       "            Model  Train_Error  Test_Error\n",
       "0        Logistic     0.986877    0.994681\n",
       "1   Random Forest     1.000000    0.962766\n",
       "2  Neural Network     0.979003    0.984043"
      ]
     },
     "execution_count": 4,
     "metadata": {},
     "output_type": "execute_result"
    }
   ],
   "source": [
    "# Logistic Regression\n",
    "\n",
    "lr = LogisticRegression().fit(X_train_scaled, y_train)\n",
    "\n",
    "prediction_train = lr.predict(X_train_scaled)\n",
    "prediction_test = lr.predict(X_test_scaled)\n",
    "\n",
    "model_accuracy.loc[0] = 'Logistic',metrics.accuracy_score(y_train, prediction_train),metrics.accuracy_score(y_test, prediction_test)\n",
    "\n",
    "\n",
    "\n",
    "# Random Forest\n",
    "\n",
    "rf = RandomForestClassifier(n_estimators = 1000, random_state = 42).fit(X_train_scaled,y_train)\n",
    "\n",
    "prediction_train = rf.predict(X_train_scaled)\n",
    "prediction_test = rf.predict(X_test_scaled)\n",
    "\n",
    "model_accuracy.loc[1] = 'Random Forest', metrics.accuracy_score(y_train, prediction_train) , metrics.accuracy_score(y_test, prediction_test)\n",
    "\n",
    "\n",
    "# MLP\n",
    "\n",
    "mlp = MLPClassifier(hidden_layer_sizes = (30), activation='relu', momentum=0.9, solver='sgd', alpha=0.0001, max_iter=2000).fit(X_train_scaled,y_train)\n",
    "\n",
    "# MLP Parameters\n",
    "# (hidden_layer_sizes=(100), activation='relu',\n",
    "# solver='adam', alpha=0.0001, batch_size='auto', \n",
    "# learning_rate='constant', learning_rate_init=0.001, power_t=0.5, \n",
    "# max_iter=200, shuffle=True, random_state=None, tol=0.0001, verbose=False, \n",
    "# warm_start=False, momentum=0.9, nesterovs_momentum=True, early_stopping=False, \n",
    "# validation_fraction=0.1, beta_1=0.9, beta_2=0.999, epsilon=1e-08, n_iter_no_change=10, max_fun=15000)\n",
    "\n",
    "prediction_train = mlp.predict(X_train_scaled)\n",
    "prediction_test = mlp.predict(X_test_scaled)\n",
    "\n",
    "model_accuracy.loc[2] = 'Neural Network', metrics.accuracy_score(y_train, prediction_train) , metrics.accuracy_score(y_test, prediction_test)\n",
    "\n",
    "model_accuracy"
   ]
  },
  {
   "cell_type": "code",
   "execution_count": 5,
   "metadata": {},
   "outputs": [
    {
     "data": {
      "image/png": "[encoded data removed]",
      "text/plain": [
       "<Figure size 432x288 with 1 Axes>"
      ]
     },
     "metadata": {
      "needs_background": "light"
     },
     "output_type": "display_data"
    }
   ],
   "source": [
    "# Logistic\n",
    "t1 = lr.predict_proba(X_test_scaled)\n",
    "lr_prob_output = t1[:,1]\n",
    "\n",
    "x1, y1 = calibration_curve(y_test, lr_prob_output, n_bins = 10, normalize = True)\n",
    "\n",
    "\n",
    "# Random Forest\n",
    "\n",
    "t2 = rf.predict_proba(X_test_scaled)\n",
    "rf_prob_output = t2[:,1]\n",
    "\n",
    "x2, y2 = calibration_curve(y_test, rf_prob_output, n_bins = 10, normalize = True)\n",
    "\n",
    "\n",
    "# Neural Network\n",
    "\n",
    "t3 = mlp.predict_proba(X_test_scaled)\n",
    "mlp_prob_output = t3[:,1]\n",
    "\n",
    "x3, y3 = calibration_curve(y_test, mlp_prob_output, n_bins = 10, normalize = True)\n",
    "\n",
    "\n",
    "#Plot \n",
    "plt.plot([0, 1], [0, 1], linestyle = '--', label = 'Ideally Calibrated')\n",
    " \n",
    "plt.plot(y1, x1, marker = '.', label = 'Logistic Regression')\n",
    "plt.plot(y2, x2, marker = '.', label = 'Random Forest')\n",
    "plt.plot(y3, x3, marker = '.', label = 'Neural Network')\n",
    " \n",
    "leg = plt.legend(loc = 'upper left')\n",
    "plt.xlabel('Average Predicted Probability in each bin')\n",
    "plt.ylabel('Ratio of positives')\n",
    "plt.show()"
   ]
  },
  {
   "cell_type": "code",
   "execution_count": null,
   "metadata": {},
   "outputs": [],
   "source": []
  },
  {
   "cell_type": "markdown",
   "metadata": {},
   "source": [
    "### Dataset 2"
   ]
  },
  {
   "cell_type": "code",
   "execution_count": 6,
   "metadata": {},
   "outputs": [],
   "source": [
    "import warnings\n",
    "warnings.filterwarnings('ignore')\n",
    "\n",
    "def load_adult():\n",
    "    df = pd.read_csv('adult.csv')\n",
    "    df = pd.get_dummies(df)\n",
    "    X = df.drop(['target'], axis=1)\n",
    "    y = df[['target']]\n",
    "    return X, np.reshape(y, (-1, ))\n",
    "\n",
    "X, y = load_adult()\n",
    "X_train, X_test, y_train, y_test = train_test_split(X, y, test_size=0.33, random_state=42)\n",
    "\n",
    "X_train_scaled = StandardScaler().fit_transform(X_train)\n",
    "X_test_scaled = StandardScaler().fit_transform(X_test)"
   ]
  },
  {
   "cell_type": "code",
   "execution_count": null,
   "metadata": {},
   "outputs": [],
   "source": []
  },
  {
   "cell_type": "code",
   "execution_count": 7,
   "metadata": {},
   "outputs": [
    {
     "data": {
      "text/html": [
       "<div>\n",
       "<style scoped>\n",
       "    .dataframe tbody tr th:only-of-type {\n",
       "        vertical-align: middle;\n",
       "    }\n",
       "\n",
       "    .dataframe tbody tr th {\n",
       "        vertical-align: top;\n",
       "    }\n",
       "\n",
       "    .dataframe thead th {\n",
       "        text-align: right;\n",
       "    }\n",
       "</style>\n",
       "<table border=\"1\" class=\"dataframe\">\n",
       "  <thead>\n",
       "    <tr style=\"text-align: right;\">\n",
       "      <th></th>\n",
       "      <th>Model</th>\n",
       "      <th>Train_Error</th>\n",
       "      <th>Test_Error</th>\n",
       "    </tr>\n",
       "  </thead>\n",
       "  <tbody>\n",
       "    <tr>\n",
       "      <th>0</th>\n",
       "      <td>Logistic</td>\n",
       "      <td>0.851570</td>\n",
       "      <td>0.854644</td>\n",
       "    </tr>\n",
       "    <tr>\n",
       "      <th>1</th>\n",
       "      <td>Random Forest</td>\n",
       "      <td>1.000000</td>\n",
       "      <td>0.847571</td>\n",
       "    </tr>\n",
       "    <tr>\n",
       "      <th>2</th>\n",
       "      <td>Neural Network</td>\n",
       "      <td>0.903782</td>\n",
       "      <td>0.836218</td>\n",
       "    </tr>\n",
       "  </tbody>\n",
       "</table>\n",
       "</div>"
      ],
      "text/plain": [
       "            Model  Train_Error  Test_Error\n",
       "0        Logistic     0.851570    0.854644\n",
       "1   Random Forest     1.000000    0.847571\n",
       "2  Neural Network     0.903782    0.836218"
      ]
     },
     "execution_count": 7,
     "metadata": {},
     "output_type": "execute_result"
    }
   ],
   "source": [
    "# Logistic\n",
    "\n",
    "lr = LogisticRegression().fit(X_train_scaled, y_train)\n",
    "\n",
    "prediction_train = lr.predict(X_train_scaled)\n",
    "prediction_test = lr.predict(X_test_scaled)\n",
    "\n",
    "model_accuracy.loc[0] = 'Logistic',metrics.accuracy_score(y_train, prediction_train),metrics.accuracy_score(y_test, prediction_test)\n",
    "\n",
    "\n",
    "\n",
    "# Random Forest\n",
    "\n",
    "rf = RandomForestClassifier(n_estimators = 1000, random_state = 42).fit(X_train_scaled,y_train)\n",
    "\n",
    "prediction_train = rf.predict(X_train_scaled)\n",
    "prediction_test = rf.predict(X_test_scaled)\n",
    "\n",
    "model_accuracy.loc[1] = 'Random Forest', metrics.accuracy_score(y_train, prediction_train) , metrics.accuracy_score(y_test, prediction_test)\n",
    "\n",
    "\n",
    "# MLP\n",
    "\n",
    "mlp = MLPClassifier(hidden_layer_sizes = (66), activation='relu', momentum=0.9, solver='adam', alpha=0.0001, max_iter=2000).fit(X_train_scaled,y_train)\n",
    "\n",
    "prediction_train = mlp.predict(X_train_scaled)\n",
    "prediction_test = mlp.predict(X_test_scaled)\n",
    "\n",
    "model_accuracy.loc[2] = 'Neural Network', metrics.accuracy_score(y_train, prediction_train) , metrics.accuracy_score(y_test, prediction_test)\n",
    "\n",
    "model_accuracy"
   ]
  },
  {
   "cell_type": "code",
   "execution_count": null,
   "metadata": {},
   "outputs": [],
   "source": []
  },
  {
   "cell_type": "code",
   "execution_count": 8,
   "metadata": {},
   "outputs": [
    {
     "data": {
      "image/png": "[encoded data removed]",
      "text/plain": [
       "<Figure size 432x288 with 1 Axes>"
      ]
     },
     "metadata": {
      "needs_background": "light"
     },
     "output_type": "display_data"
    }
   ],
   "source": [
    "# Logistic\n",
    "t1 = lr.predict_proba(X_test_scaled)\n",
    "lr_prob_output = t1[:,1]\n",
    "\n",
    "x1, y1 = calibration_curve(y_test, lr_prob_output, n_bins = 10, normalize = True)\n",
    "\n",
    "\n",
    "# Random Forest\n",
    "\n",
    "t2 = rf.predict_proba(X_test_scaled)\n",
    "rf_prob_output = t2[:,1]\n",
    "\n",
    "x2, y2 = calibration_curve(y_test, rf_prob_output, n_bins = 10, normalize = True)\n",
    "\n",
    "\n",
    "# Neural Network\n",
    "\n",
    "t3 = mlp.predict_proba(X_test_scaled)\n",
    "mlp_prob_output = t3[:,1]\n",
    "\n",
    "x3, y3 = calibration_curve(y_test, mlp_prob_output, n_bins = 10, normalize = True)\n",
    "\n",
    "\n",
    "#Plot \n",
    "plt.plot([0, 1], [0, 1], linestyle = '--', label = 'Ideally Calibrated')\n",
    " \n",
    "plt.plot(y1, x1, marker = '.', label = 'Logistic Regression')\n",
    "plt.plot(y2, x2, marker = '.', label = 'Random Forest')\n",
    "plt.plot(y3, x3, marker = '.', label = 'Neural Network')\n",
    " \n",
    "leg = plt.legend(loc = 'upper left')\n",
    "plt.xlabel('Average Predicted Probability in each bin')\n",
    "plt.ylabel('Ratio of positives')\n",
    "plt.show()"
   ]
  },
  {
   "cell_type": "code",
   "execution_count": null,
   "metadata": {},
   "outputs": [],
   "source": []
  },
  {
   "cell_type": "markdown",
   "metadata": {},
   "source": [
    "### dataset 1"
   ]
  },
  {
   "cell_type": "code",
   "execution_count": 9,
   "metadata": {},
   "outputs": [],
   "source": [
    "# Validity\n",
    "\n",
    "def validity(cf,y):\n",
    "    return sum(cf.iloc[:,-1] == y)/len(cf)\n",
    "\n",
    "\n",
    "# Sparsity\n",
    "\n",
    "def sparsity(cf,x):\n",
    "    \n",
    "    k = len(cf)\n",
    "    d = len(cf.iloc[:,:-1].columns.values)\n",
    "    mismatch = 0\n",
    "    \n",
    "    for i in range(k):\n",
    "        for j in (cf.iloc[:,:-1].columns.values):\n",
    "            if cf.iloc[i][j] != float(x[j].values):\n",
    "                mismatch+=1\n",
    "    \n",
    "    return 1- mismatch/(k*d)\n",
    "          \n",
    "\n",
    "# Proximity\n",
    "\n",
    "def proximity(cf,x):\n",
    "    k = len(cf)\n",
    "    distance = 0\n",
    "    \n",
    "    for i in range(k):\n",
    "        for j in (cf.iloc[:,:-1].columns.values):\n",
    "            distance = distance + abs(cf.iloc[i][j] != float(x[j].values))\n",
    "            \n",
    "    return -1/k * distance\n",
    "\n",
    "\n",
    "# Diversity\n",
    "import math\n",
    "\n",
    "def diversity(cf):\n",
    "    num_cf = len(cf)\n",
    "    \n",
    "    output = cf.iloc[:,-1].values\n",
    "    diversity = 0\n",
    "    \n",
    "    for i in range(len(cf)):\n",
    "        for j in range(i+1,len(cf)):\n",
    "            diversity = diversity + abs(output[i]-output[j])\n",
    "            \n",
    "    return diversity/num_cf"
   ]
  },
  {
   "cell_type": "code",
   "execution_count": 22,
   "metadata": {},
   "outputs": [],
   "source": [
    "def get_mmd_rbf(X, Y, gamma=1.0):\n",
    "    \"\"\"MMD using rbf (gaussian) kernel (i.e., k(x,y) = exp(-gamma * ||x-y||^2 / 2))\n",
    "    Arguments:\n",
    "        X {[n_sample1, dim]} -- [X matrix]\n",
    "        Y {[n_sample2, dim]} -- [Y matrix]\n",
    "    Keyword Arguments:\n",
    "        gamma {float} -- [kernel parameter] (default: {1.0})\n",
    "    Returns:\n",
    "        [scalar] -- [MMD value]\n",
    "    \"\"\"\n",
    "    XX = metrics.pairwise.rbf_kernel(X, X, gamma)\n",
    "    YY = metrics.pairwise.rbf_kernel(Y, Y, gamma)\n",
    "    XY = metrics.pairwise.rbf_kernel(X, Y, gamma)\n",
    "    return XX.mean() + YY.mean() - 2 * XY.mean()\n",
    "\n",
    "\n",
    "def in_distributionnes(dice_exp_random,X_test,c,d):\n",
    "    fract = []\n",
    "    for a in range(c,d):\n",
    "        df = dice_exp_random.cf_examples_list[a].final_cfs_df\n",
    "        t_feats = X_test.iloc[a,:]\n",
    "        fract.append(get_mmd_rbf(df.iloc[:,:-1],np.array(t_feats).reshape(1,-1)))\n",
    "    in_distri = sum(fract)/15\n",
    "    return in_distri"
   ]
  },
  {
   "cell_type": "code",
   "execution_count": 10,
   "metadata": {},
   "outputs": [],
   "source": [
    "model_accuracy = pd.DataFrame(columns=['Model','Train_Error','Test_Error'])\n",
    "data = load_breast_cancer()\n",
    "X = data.data\n",
    "y = data.target\n",
    "cols = ['mean radius', 'mean texture', 'mean perimeter', 'mean area',\n",
    "        'mean smoothness', 'mean compactness', 'mean concavity',\n",
    "        'mean concave points', 'mean symmetry', 'mean fractal dimension',\n",
    "        'radius error', 'texture error', 'perimeter error', 'area error',\n",
    "        'smoothness error', 'compactness error', 'concavity error',\n",
    "        'concave points error', 'symmetry error',\n",
    "        'fractal dimension error', 'worst radius', 'worst texture',\n",
    "        'worst perimeter', 'worst area', 'worst smoothness',\n",
    "        'worst compactness', 'worst concavity', 'worst concave points',\n",
    "        'worst symmetry', 'worst fractal dimension']\n",
    "X = pd.DataFrame(data=X, columns=cols)\n",
    "X_train, X_test, y_train, y_test = train_test_split(X, y, test_size=0.33, random_state=42)\n",
    "\n",
    "# numeric_transformer = Pipeline(steps=[('scaler', StandardScaler())])\n",
    "\n",
    "numerical = list(X.columns.values)\n",
    "\n",
    "# transformations = ColumnTransformer(transformers=[('num', numeric_transformer,  numerical)] )\n",
    "\n",
    "rf = Pipeline(steps=[#('preprocessor', transformations),\n",
    "                     ('classifier', LogisticRegression())]).fit(X_train, y_train)\n",
    "\n",
    "backend = 'sklearn'\n",
    "\n",
    "dataset = X.copy()\n",
    "dataset['Breast Cancer'] = y"
   ]
  },
  {
   "cell_type": "code",
   "execution_count": 11,
   "metadata": {},
   "outputs": [],
   "source": [
    "m = dice_ml.Model(model=rf, backend=backend)\n",
    "d = dice_ml.Data(dataframe=dataset, continuous_features=numerical, outcome_name='Breast Cancer')"
   ]
  },
  {
   "cell_type": "code",
   "execution_count": 18,
   "metadata": {},
   "outputs": [],
   "source": [
    "# Running from 1 to 16 as 0 was taking a lot of time\n",
    "query_instances = X_test[1:16]"
   ]
  },
  {
   "cell_type": "code",
   "execution_count": 19,
   "metadata": {},
   "outputs": [
    {
     "name": "stderr",
     "output_type": "stream",
     "text": [
      "100%|██████████████████████████████████████████████████████████████████████████████████| 15/15 [04:05<00:00, 16.36s/it]\n"
     ]
    }
   ],
   "source": [
    "exp_random = dice_ml.Dice(d, m, method=\"random\")\n",
    "dice_exp_random = exp_random.generate_counterfactuals(query_instances, total_CFs=5, desired_class=\"opposite\", verbose=False)\n",
    "# dice_exp_random.visualize_as_dataframe()"
   ]
  },
  {
   "cell_type": "code",
   "execution_count": 20,
   "metadata": {},
   "outputs": [
    {
     "name": "stderr",
     "output_type": "stream",
     "text": [
      "  7%|█████▌                                                                             | 1/15 [00:00<00:02,  6.53it/s]"
     ]
    },
    {
     "name": "stdout",
     "output_type": "stream",
     "text": [
      "Initializing initial parameters to the genetic algorithm...\n",
      "Initialization complete! Generating counterfactuals...\n",
      "Diverse Counterfactuals found! total time taken: 00 min 00 sec\n",
      "Initializing initial parameters to the genetic algorithm...\n"
     ]
    },
    {
     "name": "stderr",
     "output_type": "stream",
     "text": [
      "\r",
      " 13%|███████████                                                                        | 2/15 [00:00<00:01,  6.64it/s]"
     ]
    },
    {
     "name": "stdout",
     "output_type": "stream",
     "text": [
      "Initialization complete! Generating counterfactuals...\n",
      "Diverse Counterfactuals found! total time taken: 00 min 00 sec\n",
      "Initializing initial parameters to the genetic algorithm...\n",
      "Initialization complete! Generating counterfactuals...\n"
     ]
    },
    {
     "name": "stderr",
     "output_type": "stream",
     "text": [
      " 27%|██████████████████████▏                                                            | 4/15 [00:00<00:01,  6.78it/s]"
     ]
    },
    {
     "name": "stdout",
     "output_type": "stream",
     "text": [
      "Diverse Counterfactuals found! total time taken: 00 min 00 sec\n",
      "Initializing initial parameters to the genetic algorithm...\n",
      "Initialization complete! Generating counterfactuals...\n",
      "Diverse Counterfactuals found! total time taken: 00 min 00 sec\n",
      "Initializing initial parameters to the genetic algorithm...\n"
     ]
    },
    {
     "name": "stderr",
     "output_type": "stream",
     "text": [
      "\r",
      " 33%|███████████████████████████▋                                                       | 5/15 [00:00<00:01,  6.84it/s]"
     ]
    },
    {
     "name": "stdout",
     "output_type": "stream",
     "text": [
      "Initialization complete! Generating counterfactuals...\n",
      "Diverse Counterfactuals found! total time taken: 00 min 00 sec\n",
      "Initializing initial parameters to the genetic algorithm...\n",
      "Initialization complete! Generating counterfactuals...\n"
     ]
    },
    {
     "name": "stderr",
     "output_type": "stream",
     "text": [
      " 47%|██████████████████████████████████████▋                                            | 7/15 [00:01<00:01,  6.91it/s]"
     ]
    },
    {
     "name": "stdout",
     "output_type": "stream",
     "text": [
      "Diverse Counterfactuals found! total time taken: 00 min 00 sec\n",
      "Initializing initial parameters to the genetic algorithm...\n",
      "Initialization complete! Generating counterfactuals...\n",
      "Diverse Counterfactuals found! total time taken: 00 min 00 sec\n",
      "Initializing initial parameters to the genetic algorithm...\n",
      "Initialization complete! Generating counterfactuals..."
     ]
    },
    {
     "name": "stderr",
     "output_type": "stream",
     "text": [
      "\r",
      " 53%|████████████████████████████████████████████▎                                      | 8/15 [00:01<00:01,  6.91it/s]"
     ]
    },
    {
     "name": "stdout",
     "output_type": "stream",
     "text": [
      "\n",
      "Diverse Counterfactuals found! total time taken: 00 min 00 sec\n",
      "Initializing initial parameters to the genetic algorithm...\n",
      "Initialization complete! Generating counterfactuals...\n"
     ]
    },
    {
     "name": "stderr",
     "output_type": "stream",
     "text": [
      " 67%|██████████████████████████████████████████████████████▋                           | 10/15 [00:01<00:00,  6.59it/s]"
     ]
    },
    {
     "name": "stdout",
     "output_type": "stream",
     "text": [
      "Diverse Counterfactuals found! total time taken: 00 min 00 sec\n",
      "Initializing initial parameters to the genetic algorithm...\n",
      "Initialization complete! Generating counterfactuals...\n",
      "Diverse Counterfactuals found! total time taken: 00 min 00 sec\n",
      "Initializing initial parameters to the genetic algorithm...\n"
     ]
    },
    {
     "name": "stderr",
     "output_type": "stream",
     "text": [
      "\r",
      " 73%|████████████████████████████████████████████████████████████▏                     | 11/15 [00:01<00:00,  6.34it/s]"
     ]
    },
    {
     "name": "stdout",
     "output_type": "stream",
     "text": [
      "Initialization complete! Generating counterfactuals...\n",
      "Diverse Counterfactuals found! total time taken: 00 min 00 sec\n",
      "Initializing initial parameters to the genetic algorithm...\n"
     ]
    },
    {
     "name": "stderr",
     "output_type": "stream",
     "text": [
      "\r",
      " 80%|█████████████████████████████████████████████████████████████████▌                | 12/15 [00:01<00:00,  6.44it/s]"
     ]
    },
    {
     "name": "stdout",
     "output_type": "stream",
     "text": [
      "Initialization complete! Generating counterfactuals...\n",
      "Diverse Counterfactuals found! total time taken: 00 min 00 sec\n",
      "Initializing initial parameters to the genetic algorithm...\n",
      "Initialization complete! Generating counterfactuals...\n"
     ]
    },
    {
     "name": "stderr",
     "output_type": "stream",
     "text": [
      " 93%|████████████████████████████████████████████████████████████████████████████▌     | 14/15 [00:02<00:00,  6.72it/s]"
     ]
    },
    {
     "name": "stdout",
     "output_type": "stream",
     "text": [
      "Diverse Counterfactuals found! total time taken: 00 min 00 sec\n",
      "Initializing initial parameters to the genetic algorithm...\n",
      "Initialization complete! Generating counterfactuals...\n",
      "Diverse Counterfactuals found! total time taken: 00 min 00 sec\n",
      "Initializing initial parameters to the genetic algorithm...\n"
     ]
    },
    {
     "name": "stderr",
     "output_type": "stream",
     "text": [
      "100%|██████████████████████████████████████████████████████████████████████████████████| 15/15 [00:02<00:00,  6.73it/s]"
     ]
    },
    {
     "name": "stdout",
     "output_type": "stream",
     "text": [
      "Initialization complete! Generating counterfactuals...\n",
      "Diverse Counterfactuals found! total time taken: 00 min 00 sec\n"
     ]
    },
    {
     "name": "stderr",
     "output_type": "stream",
     "text": [
      "\n"
     ]
    }
   ],
   "source": [
    "exp_genetic = dice_ml.Dice(d, m, method='genetic')\n",
    "dice_exp_genetic = exp_genetic.generate_counterfactuals(query_instances, total_CFs=5, desired_class=\"opposite\", verbose=True)\n",
    "# dice_exp_genetic.visualize_as_dataframe()"
   ]
  },
  {
   "cell_type": "code",
   "execution_count": 15,
   "metadata": {},
   "outputs": [
    {
     "data": {
      "text/html": [
       "<div>\n",
       "<style scoped>\n",
       "    .dataframe tbody tr th:only-of-type {\n",
       "        vertical-align: middle;\n",
       "    }\n",
       "\n",
       "    .dataframe tbody tr th {\n",
       "        vertical-align: top;\n",
       "    }\n",
       "\n",
       "    .dataframe thead th {\n",
       "        text-align: right;\n",
       "    }\n",
       "</style>\n",
       "<table border=\"1\" class=\"dataframe\">\n",
       "  <thead>\n",
       "    <tr style=\"text-align: right;\">\n",
       "      <th></th>\n",
       "      <th>random</th>\n",
       "      <th>genetic</th>\n",
       "    </tr>\n",
       "  </thead>\n",
       "  <tbody>\n",
       "    <tr>\n",
       "      <th>validity</th>\n",
       "      <td>0.00</td>\n",
       "      <td>0.0</td>\n",
       "    </tr>\n",
       "    <tr>\n",
       "      <th>sparsity</th>\n",
       "      <td>0.94</td>\n",
       "      <td>0.0</td>\n",
       "    </tr>\n",
       "    <tr>\n",
       "      <th>proximity</th>\n",
       "      <td>-1.80</td>\n",
       "      <td>-30.0</td>\n",
       "    </tr>\n",
       "    <tr>\n",
       "      <th>diversity</th>\n",
       "      <td>0.00</td>\n",
       "      <td>0.0</td>\n",
       "    </tr>\n",
       "  </tbody>\n",
       "</table>\n",
       "</div>"
      ],
      "text/plain": [
       "           random  genetic\n",
       "validity     0.00      0.0\n",
       "sparsity     0.94      0.0\n",
       "proximity   -1.80    -30.0\n",
       "diversity    0.00      0.0"
      ]
     },
     "execution_count": 15,
     "metadata": {},
     "output_type": "execute_result"
    }
   ],
   "source": [
    "cf_scores_breast_cancer_test_case_0 = pd.DataFrame(index = ['validity','sparsity','proximity','diversity'],columns = ['random','genetic']).fillna(0.00)\n",
    "cf1 = dice_exp_random.cf_examples_list[0].final_cfs_df\n",
    "cf2 = dice_exp_genetic.cf_examples_list[0].final_cfs_df\n",
    "\n",
    "cf_scores_breast_cancer_test_case_0.loc['validity','random'] = validity(cf1,y_test[1])\n",
    "cf_scores_breast_cancer_test_case_0.loc['sparsity','random'] = sparsity(cf1,X_test[1:2])  \n",
    "cf_scores_breast_cancer_test_case_0.loc['proximity','random'] = proximity(cf1,X_test[1:2])    \n",
    "cf_scores_breast_cancer_test_case_0.loc['diversity','random'] = diversity(cf1)\n",
    "\n",
    "cf_scores_breast_cancer_test_case_0.loc['validity','genetic'] = validity(cf2,y_test[1])\n",
    "cf_scores_breast_cancer_test_case_0.loc['sparsity','genetic'] = sparsity(cf2,X_test[1:2])  \n",
    "cf_scores_breast_cancer_test_case_0.loc['proximity','genetic'] = proximity(cf2,X_test[1:2])    \n",
    "cf_scores_breast_cancer_test_case_0.loc['diversity','genetic'] = diversity(cf2)\n",
    "\n",
    "cf_scores_breast_cancer_test_case_0"
   ]
  },
  {
   "cell_type": "code",
   "execution_count": 25,
   "metadata": {},
   "outputs": [
    {
     "data": {
      "text/plain": [
       "1.1320976067739494"
      ]
     },
     "execution_count": 25,
     "metadata": {},
     "output_type": "execute_result"
    }
   ],
   "source": [
    "#Random\n",
    "in_distributionnes(dice_exp_random, X_test,1,15)"
   ]
  },
  {
   "cell_type": "code",
   "execution_count": 26,
   "metadata": {},
   "outputs": [
    {
     "data": {
      "text/plain": [
       "1.1199999999999999"
      ]
     },
     "execution_count": 26,
     "metadata": {},
     "output_type": "execute_result"
    }
   ],
   "source": [
    "#Genetic\n",
    "in_distributionnes(dice_exp_genetic, X_test,1,15)"
   ]
  },
  {
   "cell_type": "markdown",
   "metadata": {},
   "source": [
    "### Dataset 2"
   ]
  },
  {
   "cell_type": "code",
   "execution_count": 27,
   "metadata": {},
   "outputs": [],
   "source": [
    "def load_adult():\n",
    "    df = pd.read_csv('adult.csv')\n",
    "    df = pd.get_dummies(df)\n",
    "    X = df.drop(['target'], axis=1)\n",
    "    y = df[['target']]\n",
    "    return X, np.reshape(y, (-1, ))\n",
    "\n",
    "X, y = load_adult()\n",
    "X_train, X_test, y_train, y_test = train_test_split(X, y, test_size=0.33, random_state=42)\n",
    "\n",
    "\n",
    "# numeric_transformer = Pipeline(steps=[('scaler', StandardScaler())])\n",
    "\n",
    "numerical = ['capital-gain','capital-loss','hours-per-week','education-num','fnlwgt']\n",
    "categorical = X.columns.difference(numerical)\n",
    "\n",
    "categorical_transformer = Pipeline(steps=[\n",
    "    ('onehot', OneHotEncoder(handle_unknown='ignore'))])\n",
    "\n",
    "transformations = ColumnTransformer(\n",
    "    transformers=[#('num', numeric_transformer, numerical),\n",
    "                  ('cat', categorical_transformer, categorical)])\n",
    "\n",
    "rf = Pipeline(steps=[('preprocessor', transformations),\n",
    "                     ('classifier', LogisticRegression())]).fit(X_train, y_train)\n",
    "\n",
    "backend = 'sklearn'\n",
    "\n",
    "dataset = X.copy()\n",
    "dataset['Target'] = y"
   ]
  },
  {
   "cell_type": "code",
   "execution_count": null,
   "metadata": {},
   "outputs": [],
   "source": []
  },
  {
   "cell_type": "code",
   "execution_count": 29,
   "metadata": {},
   "outputs": [],
   "source": [
    "m = dice_ml.Model(model=rf, backend=backend)\n",
    "d = dice_ml.Data(dataframe=dataset, continuous_features=numerical, outcome_name='Target')\n",
    "query_instances = X_test[0:15]"
   ]
  },
  {
   "cell_type": "code",
   "execution_count": 30,
   "metadata": {},
   "outputs": [
    {
     "name": "stderr",
     "output_type": "stream",
     "text": [
      "100%|██████████████████████████████████████████████████████████████████████████████████| 15/15 [00:03<00:00,  4.47it/s]\n"
     ]
    }
   ],
   "source": [
    "exp_random = dice_ml.Dice(d, m, method=\"random\")\n",
    "dice_exp_random = exp_random.generate_counterfactuals(query_instances, total_CFs=5, desired_class=\"opposite\", verbose=False)\n",
    "# dice_exp_random.visualize_as_dataframe()"
   ]
  },
  {
   "cell_type": "code",
   "execution_count": 34,
   "metadata": {},
   "outputs": [
    {
     "name": "stderr",
     "output_type": "stream",
     "text": [
      "  7%|█████▌                                                                             | 1/15 [00:00<00:03,  4.27it/s]"
     ]
    },
    {
     "name": "stdout",
     "output_type": "stream",
     "text": [
      "Diverse Counterfactuals found! total time taken: 00 min 00 sec\n",
      "Diverse Counterfactuals found! total time taken: 00"
     ]
    },
    {
     "name": "stderr",
     "output_type": "stream",
     "text": [
      "\r",
      " 13%|███████████                                                                        | 2/15 [00:00<00:02,  4.48it/s]"
     ]
    },
    {
     "name": "stdout",
     "output_type": "stream",
     "text": [
      " min 00 sec\n",
      "Diverse Counterfactuals found! total time taken: 00"
     ]
    },
    {
     "name": "stderr",
     "output_type": "stream",
     "text": [
      "\r",
      " 20%|████████████████▌                                                                  | 3/15 [00:00<00:02,  4.64it/s]"
     ]
    },
    {
     "name": "stdout",
     "output_type": "stream",
     "text": [
      " min 00 sec\n"
     ]
    },
    {
     "name": "stderr",
     "output_type": "stream",
     "text": [
      "\r",
      " 27%|██████████████████████▏                                                            | 4/15 [00:00<00:02,  4.63it/s]"
     ]
    },
    {
     "name": "stdout",
     "output_type": "stream",
     "text": [
      "Diverse Counterfactuals found! total time taken: 00 min 00 sec\n",
      "Diverse Counterfactuals found! total time taken: 00"
     ]
    },
    {
     "name": "stderr",
     "output_type": "stream",
     "text": [
      "\r",
      " 33%|███████████████████████████▋                                                       | 5/15 [00:01<00:02,  4.80it/s]"
     ]
    },
    {
     "name": "stdout",
     "output_type": "stream",
     "text": [
      " min 00 sec\n",
      "Diverse Counterfactuals found! total time taken: 00"
     ]
    },
    {
     "name": "stderr",
     "output_type": "stream",
     "text": [
      "\r",
      " 40%|█████████████████████████████████▏                                                 | 6/15 [00:01<00:01,  4.88it/s]"
     ]
    },
    {
     "name": "stdout",
     "output_type": "stream",
     "text": [
      " min 00 sec\n",
      "Diverse Counterfactuals found! total time taken: 00"
     ]
    },
    {
     "name": "stderr",
     "output_type": "stream",
     "text": [
      "\r",
      " 47%|██████████████████████████████████████▋                                            | 7/15 [00:01<00:01,  4.92it/s]"
     ]
    },
    {
     "name": "stdout",
     "output_type": "stream",
     "text": [
      " min 00 sec\n"
     ]
    },
    {
     "name": "stderr",
     "output_type": "stream",
     "text": [
      "\r",
      " 53%|████████████████████████████████████████████▎                                      | 8/15 [00:01<00:01,  4.15it/s]"
     ]
    },
    {
     "name": "stdout",
     "output_type": "stream",
     "text": [
      "Diverse Counterfactuals found! total time taken: 00 min 00 sec\n"
     ]
    },
    {
     "name": "stderr",
     "output_type": "stream",
     "text": [
      "\r",
      " 60%|█████████████████████████████████████████████████▊                                 | 9/15 [00:02<00:01,  3.98it/s]"
     ]
    },
    {
     "name": "stdout",
     "output_type": "stream",
     "text": [
      "Diverse Counterfactuals found! total time taken: 00 min 00 sec\n"
     ]
    },
    {
     "name": "stderr",
     "output_type": "stream",
     "text": [
      "\r",
      " 67%|██████████████████████████████████████████████████████▋                           | 10/15 [00:02<00:01,  4.21it/s]"
     ]
    },
    {
     "name": "stdout",
     "output_type": "stream",
     "text": [
      "Diverse Counterfactuals found! total time taken: 00 min 00 sec\n",
      "Diverse Counterfactuals found! total time taken: 00"
     ]
    },
    {
     "name": "stderr",
     "output_type": "stream",
     "text": [
      "\r",
      " 73%|████████████████████████████████████████████████████████████▏                     | 11/15 [00:02<00:00,  4.40it/s]"
     ]
    },
    {
     "name": "stdout",
     "output_type": "stream",
     "text": [
      " min 00 sec\n",
      "Diverse Counterfactuals found! total time taken: 00"
     ]
    },
    {
     "name": "stderr",
     "output_type": "stream",
     "text": [
      "\r",
      " 80%|█████████████████████████████████████████████████████████████████▌                | 12/15 [00:02<00:00,  4.61it/s]"
     ]
    },
    {
     "name": "stdout",
     "output_type": "stream",
     "text": [
      " min 00 sec\n",
      "Diverse Counterfactuals found! total time taken: 00"
     ]
    },
    {
     "name": "stderr",
     "output_type": "stream",
     "text": [
      "\r",
      " 87%|███████████████████████████████████████████████████████████████████████           | 13/15 [00:02<00:00,  4.73it/s]"
     ]
    },
    {
     "name": "stdout",
     "output_type": "stream",
     "text": [
      " min 00 sec\n",
      "Diverse Counterfactuals found! total time taken: 00"
     ]
    },
    {
     "name": "stderr",
     "output_type": "stream",
     "text": [
      "\r",
      " 93%|████████████████████████████████████████████████████████████████████████████▌     | 14/15 [00:03<00:00,  4.73it/s]"
     ]
    },
    {
     "name": "stdout",
     "output_type": "stream",
     "text": [
      " min 00 sec\n",
      "Diverse Counterfactuals found! total time taken: 00"
     ]
    },
    {
     "name": "stderr",
     "output_type": "stream",
     "text": [
      "100%|██████████████████████████████████████████████████████████████████████████████████| 15/15 [00:03<00:00,  4.62it/s]"
     ]
    },
    {
     "name": "stdout",
     "output_type": "stream",
     "text": [
      " min 00 sec\n"
     ]
    },
    {
     "name": "stderr",
     "output_type": "stream",
     "text": [
      "\n"
     ]
    }
   ],
   "source": [
    "exp_genetic = dice_ml.Dice(d, m, method='genetic')\n",
    "dice_exp_genetic = exp_random.generate_counterfactuals(query_instances, total_CFs=5, desired_class=\"opposite\", verbose=True)"
   ]
  },
  {
   "cell_type": "code",
   "execution_count": 35,
   "metadata": {},
   "outputs": [
    {
     "data": {
      "text/html": [
       "<div>\n",
       "<style scoped>\n",
       "    .dataframe tbody tr th:only-of-type {\n",
       "        vertical-align: middle;\n",
       "    }\n",
       "\n",
       "    .dataframe tbody tr th {\n",
       "        vertical-align: top;\n",
       "    }\n",
       "\n",
       "    .dataframe thead th {\n",
       "        text-align: right;\n",
       "    }\n",
       "</style>\n",
       "<table border=\"1\" class=\"dataframe\">\n",
       "  <thead>\n",
       "    <tr style=\"text-align: right;\">\n",
       "      <th></th>\n",
       "      <th>random</th>\n",
       "      <th>genetic</th>\n",
       "    </tr>\n",
       "  </thead>\n",
       "  <tbody>\n",
       "    <tr>\n",
       "      <th>validity</th>\n",
       "      <td>0.000000</td>\n",
       "      <td>0.000000</td>\n",
       "    </tr>\n",
       "    <tr>\n",
       "      <th>sparsity</th>\n",
       "      <td>0.945455</td>\n",
       "      <td>0.954545</td>\n",
       "    </tr>\n",
       "    <tr>\n",
       "      <th>proximity</th>\n",
       "      <td>-3.600000</td>\n",
       "      <td>-3.000000</td>\n",
       "    </tr>\n",
       "    <tr>\n",
       "      <th>diversity</th>\n",
       "      <td>0.000000</td>\n",
       "      <td>0.000000</td>\n",
       "    </tr>\n",
       "  </tbody>\n",
       "</table>\n",
       "</div>"
      ],
      "text/plain": [
       "             random   genetic\n",
       "validity   0.000000  0.000000\n",
       "sparsity   0.945455  0.954545\n",
       "proximity -3.600000 -3.000000\n",
       "diversity  0.000000  0.000000"
      ]
     },
     "execution_count": 35,
     "metadata": {},
     "output_type": "execute_result"
    }
   ],
   "source": [
    "cf_scores_adult_test_case_0 = pd.DataFrame(index = ['validity','sparsity','proximity','diversity'],columns = ['random','genetic']).fillna(0.00)\n",
    "cf1 = dice_exp_random.cf_examples_list[0].final_cfs_df\n",
    "cf2 = dice_exp_genetic.cf_examples_list[0].final_cfs_df\n",
    "\n",
    "cf_scores_adult_test_case_0.loc['validity','random'] = validity(cf1,int(y_test.iloc[0].values))\n",
    "cf_scores_adult_test_case_0.loc['sparsity','random'] = sparsity(cf1,X_test[0:1])  \n",
    "cf_scores_adult_test_case_0.loc['proximity','random'] = proximity(cf1,X_test[0:1])    \n",
    "cf_scores_adult_test_case_0.loc['diversity','random'] = diversity(cf1)\n",
    "\n",
    "cf_scores_adult_test_case_0.loc['validity','genetic'] = validity(cf2,int(y_test.iloc[0].values))\n",
    "cf_scores_adult_test_case_0.loc['sparsity','genetic'] = sparsity(cf2,X_test[0:1])  \n",
    "cf_scores_adult_test_case_0.loc['proximity','genetic'] = proximity(cf2,X_test[0:1])    \n",
    "cf_scores_adult_test_case_0.loc['diversity','genetic'] = diversity(cf2)\n",
    "\n",
    "cf_scores_adult_test_case_0"
   ]
  },
  {
   "cell_type": "code",
   "execution_count": 38,
   "metadata": {},
   "outputs": [
    {
     "data": {
      "text/plain": [
       "0.9871599471964826"
      ]
     },
     "execution_count": 38,
     "metadata": {},
     "output_type": "execute_result"
    }
   ],
   "source": [
    "#Random\n",
    "in_distributionnes(dice_exp_random, X_test,0,15)"
   ]
  },
  {
   "cell_type": "code",
   "execution_count": 40,
   "metadata": {},
   "outputs": [
    {
     "data": {
      "text/plain": [
       "1.0035137502527072"
      ]
     },
     "execution_count": 40,
     "metadata": {},
     "output_type": "execute_result"
    }
   ],
   "source": [
    "#Genetic\n",
    "in_distributionnes(dice_exp_genetic, X_test,0,15)"
   ]
  },
  {
   "cell_type": "code",
   "execution_count": null,
   "metadata": {},
   "outputs": [],
   "source": []
  }
 ],
 "metadata": {
  "colab": {
   "collapsed_sections": [],
   "name": "MIS382N_HW4-1.ipynb",
   "provenance": []
  },
  "kernelspec": {
   "display_name": "Python 3",
   "language": "python",
   "name": "python3"
  },
  "language_info": {
   "codemirror_mode": {
    "name": "ipython",
    "version": 3
   },
   "file_extension": ".py",
   "mimetype": "text/x-python",
   "name": "python",
   "nbconvert_exporter": "python",
   "pygments_lexer": "ipython3",
   "version": "3.8.5"
  }
 },
 "nbformat": 4,
 "nbformat_minor": 1
}
